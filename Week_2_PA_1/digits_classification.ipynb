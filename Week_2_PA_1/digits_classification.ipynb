{
 "cells": [
  {
   "cell_type": "markdown",
   "metadata": {
    "slideshow": {
     "slide_type": "slide"
    }
   },
   "source": [
    "# MNIST digits classification with TensorFlow"
   ]
  },
  {
   "cell_type": "markdown",
   "metadata": {},
   "source": [
    "<img src=\"images/mnist_sample.png\" style=\"width:30%\">"
   ]
  },
  {
   "cell_type": "code",
   "execution_count": null,
   "metadata": {},
   "outputs": [],
   "source": [
    "import numpy as np\n",
    "from sklearn.metrics import accuracy_score\n",
    "from matplotlib import pyplot as plt\n",
    "%matplotlib inline\n",
    "import tensorflow as tf\n",
    "print(\"We're using TF\", tf.__version__)\n",
    "\n",
    "import sys\n",
    "sys.path.append(\"../..\")\n",
    "import grading\n",
    "\n",
    "import matplotlib_utils\n",
    "from importlib import reload\n",
    "reload(matplotlib_utils)\n",
    "\n",
    "import grading_utils\n",
    "reload(grading_utils)\n",
    "\n",
    "import keras_utils\n",
    "from keras_utils import reset_tf_session"
   ]
  },
  {
   "cell_type": "markdown",
   "metadata": {},
   "source": [
    "# Fill in your Coursera token and email\n",
    "To successfully submit your answers to our grader, please fill in your Coursera submission token and email"
   ]
  },
  {
   "cell_type": "code",
   "execution_count": null,
   "metadata": {
    "collapsed": true
   },
   "outputs": [],
   "source": [
    "grader = grading.Grader(assignment_key=\"XtD7ho3TEeiHQBLWejjYAA\", \n",
    "                        all_parts=[\"9XaAS\", \"vmogZ\", \"RMv95\", \"i8bgs\", \"rE763\"])"
   ]
  },
  {
   "cell_type": "code",
   "execution_count": 3,
   "metadata": {
    "collapsed": true
   },
   "outputs": [],
   "source": [
    "# token expires every 30 min\n",
    "COURSERA_TOKEN = \"66QXf0va5kkOGGr8\"\n",
    "COURSERA_EMAIL = \"kmr2907akash@gmail.com\""
   ]
  },
  {
   "cell_type": "markdown",
   "metadata": {},
   "source": [
    "# Look at the data\n",
    "\n",
    "In this task we have 50000 28x28 images of digits from 0 to 9.\n",
    "We will train a classifier on this data."
   ]
  },
  {
   "cell_type": "code",
   "execution_count": 4,
   "metadata": {},
   "outputs": [],
   "source": [
    "import preprocessed_mnist\n",
    "X_train, y_train, X_val, y_val, X_test, y_test = preprocessed_mnist.load_dataset()"
   ]
  },
  {
   "cell_type": "code",
   "execution_count": 5,
   "metadata": {},
   "outputs": [
    {
     "name": "stdout",
     "output_type": "stream",
     "text": [
      "X_train [shape (50000, 28, 28)] sample patch:\n",
      " [[ 0.          0.29803922  0.96470588  0.98823529  0.43921569]\n",
      " [ 0.          0.33333333  0.98823529  0.90196078  0.09803922]\n",
      " [ 0.          0.33333333  0.98823529  0.8745098   0.        ]\n",
      " [ 0.          0.33333333  0.98823529  0.56862745  0.        ]\n",
      " [ 0.          0.3372549   0.99215686  0.88235294  0.        ]]\n",
      "A closeup of a sample patch:\n"
     ]
    },
    {
     "data": {
      "image/png": "[encoded data removed]",
      "text/plain": [
       "<matplotlib.figure.Figure at 0x7f616ccbe940>"
      ]
     },
     "metadata": {},
     "output_type": "display_data"
    },
    {
     "name": "stdout",
     "output_type": "stream",
     "text": [
      "And the whole sample:\n"
     ]
    },
    {
     "data": {
      "image/png": "[encoded data removed]",
      "text/plain": [
       "<matplotlib.figure.Figure at 0x7f615e835cc0>"
      ]
     },
     "metadata": {},
     "output_type": "display_data"
    },
    {
     "name": "stdout",
     "output_type": "stream",
     "text": [
      "y_train [shape (50000,)] 10 samples:\n",
      " [5 0 4 1 9 2 1 3 1 4]\n"
     ]
    }
   ],
   "source": [
    "# X contains rgb values divided by 255\n",
    "print(\"X_train [shape %s] sample patch:\\n\" % (str(X_train.shape)), X_train[1, 15:20, 5:10])\n",
    "print(\"A closeup of a sample patch:\")\n",
    "plt.imshow(X_train[1, 15:20, 5:10], cmap=\"Greys\")\n",
    "plt.show()\n",
    "print(\"And the whole sample:\")\n",
    "plt.imshow(X_train[1], cmap=\"Greys\")\n",
    "plt.show()\n",
    "print(\"y_train [shape %s] 10 samples:\\n\" % (str(y_train.shape)), y_train[:10])"
   ]
  },
  {
   "cell_type": "markdown",
   "metadata": {},
   "source": [
    "# Linear model\n",
    "\n",
    "Your task is to train a linear classifier $\\vec{x} \\rightarrow y$ with SGD using TensorFlow.\n",
    "\n",
    "You will need to calculate a logit (a linear transformation) $z_k$ for each class: \n",
    "$$z_k = \\vec{x} \\cdot \\vec{w_k} + b_k \\quad k = 0..9$$\n",
    "\n",
    "And transform logits $z_k$ to valid probabilities $p_k$ with softmax: \n",
    "$$p_k = \\frac{e^{z_k}}{\\sum_{i=0}^{9}{e^{z_i}}} \\quad k = 0..9$$\n",
    "\n",
    "We will use a cross-entropy loss to train our multi-class classifier:\n",
    "$$\\text{cross-entropy}(y, p) = -\\sum_{k=0}^{9}{\\log(p_k)[y = k]}$$ \n",
    "\n",
    "where \n",
    "$$\n",
    "[x]=\\begin{cases}\n",
    "       1, \\quad \\text{if $x$ is true} \\\\\n",
    "       0, \\quad \\text{otherwise}\n",
    "    \\end{cases}\n",
    "$$\n",
    "\n",
    "Cross-entropy minimization pushes $p_k$ close to 1 when $y = k$, which is what we want.\n",
    "\n",
    "Here's the plan:\n",
    "* Flatten the images (28x28 -> 784) with `X_train.reshape((X_train.shape[0], -1))` to simplify our linear model implementation\n",
    "* Use a matrix placeholder for flattened `X_train`\n",
    "* Convert `y_train` to one-hot encoded vectors that are needed for cross-entropy\n",
    "* Use a shared variable `W` for all weights (a column $\\vec{w_k}$ per class) and `b` for all biases.\n",
    "* Aim for ~0.93 validation accuracy"
   ]
  },
  {
   "cell_type": "code",
   "execution_count": 6,
   "metadata": {},
   "outputs": [
    {
     "name": "stdout",
     "output_type": "stream",
     "text": [
      "(50000, 784)\n",
      "(10000, 784)\n"
     ]
    }
   ],
   "source": [
    "X_train_flat = X_train.reshape((X_train.shape[0], -1))\n",
    "print(X_train_flat.shape)\n",
    "\n",
    "X_val_flat = X_val.reshape((X_val.shape[0], -1))\n",
    "print(X_val_flat.shape)"
   ]
  },
  {
   "cell_type": "code",
   "execution_count": 7,
   "metadata": {},
   "outputs": [
    {
     "name": "stdout",
     "output_type": "stream",
     "text": [
      "(50000, 10)\n",
      "[[ 0.  0.  0.  0.  0.  1.  0.  0.  0.  0.]\n",
      " [ 1.  0.  0.  0.  0.  0.  0.  0.  0.  0.]\n",
      " [ 0.  0.  0.  0.  1.  0.  0.  0.  0.  0.]] [5 0 4]\n"
     ]
    }
   ],
   "source": [
    "import keras\n",
    "\n",
    "y_train_oh = keras.utils.to_categorical(y_train, 10)\n",
    "y_val_oh = keras.utils.to_categorical(y_val, 10)\n",
    "\n",
    "print(y_train_oh.shape)\n",
    "print(y_train_oh[:3], y_train[:3])"
   ]
  },
  {
   "cell_type": "code",
   "execution_count": 8,
   "metadata": {
    "collapsed": true
   },
   "outputs": [],
   "source": [
    "# run this again if you remake your graph\n",
    "s = reset_tf_session()"
   ]
  },
  {
   "cell_type": "code",
   "execution_count": 9,
   "metadata": {},
   "outputs": [
    {
     "name": "stdout",
     "output_type": "stream",
     "text": [
      "Tensor(\"Placeholder_1:0\", shape=(?, 10), dtype=float32)\n"
     ]
    }
   ],
   "source": [
    "W = tf.get_variable(\"W\", shape=(784,10), dtype = tf.float32, initializer = tf.contrib.layers.xavier_initializer())\n",
    "b = tf.get_variable(\"b\", shape=(10,), dtype = tf.float32, initializer = tf.contrib.layers.xavier_initializer())\n",
    "# Placeholders for the input data\n",
    "input_X = tf.placeholder(tf.float32, shape=[None, 784]) \n",
    "input_y = tf.placeholder(tf.float32, shape=[None, 10])"
   ]
  },
  {
   "cell_type": "code",
   "execution_count": 15,
   "metadata": {
    "collapsed": true
   },
   "outputs": [],
   "source": [
    "# Compute predictions\n",
    "logits = tf.matmul(input_X, W)+b ### shape should be [input_X.shape[0], 10]\n",
    "probas = tf.nn.softmax(logits) ### apply tf.nn.softmax to logits\n",
    "classes = tf.argmax(probas, 1) ### apply tf.argmax to find a class index with highest probability\n",
    "\n",
    "# Loss should be a scalar number: average loss over all the objects with tf.reduce_mean().\n",
    "# Use tf.nn.softmax_cross_entropy_with_logits on top of one-hot encoded input_y and logits.\n",
    "# It is identical to calculating cross-entropy on top of probas, but is more numerically friendly (read the docs).\n",
    "# logits_h = keras.utils.to_categorical(logits, 10)\n",
    "# input_yh = keras.utils.to_categorical(input_y)\n",
    "loss = tf.reduce_mean(tf.nn.softmax_cross_entropy_with_logits(logits=logits, labels=input_y)) ### cross-entropy loss\n",
    "\n",
    "# Use a default tf.train.AdamOptimizer to get an SGD step\n",
    "step = tf.train.AdamOptimizer().minimize(loss) ### optimizer step that minimizes the loss"
   ]
  },
  {
   "cell_type": "code",
   "execution_count": 16,
   "metadata": {
    "scrolled": false
   },
   "outputs": [
    {
     "data": {
      "text/html": [
       "<img src=\"data:image/jpeg;base64,/9j/4AAQSkZJRgABAQAAAQABAAD/2wBDAAIBAQEBAQIBAQECAgICAgQDAgICAgUEBAMEBgUGBgYFBgYGBwkIBgcJBwYGCAsICQoKCgoKBggLDAsKDAkKCgr/2wBDAQICAgICAgUDAwUKBwYHCgoKCgoKCgoKCgoKCgoKCgoKCgoKCgoKCgoKCgoKCgoKCgoKCgoKCgoKCgoKCgoKCgr/wAARCAEgA2ADASIAAhEBAxEB/8QAHwAAAQUBAQEBAQEAAAAAAAAAAAECAwQFBgcICQoL/8QAtRAAAgEDAwIEAwUFBAQAAAF9AQIDAAQRBRIhMUEGE1FhByJxFDKBkaEII0KxwRVS0fAkM2JyggkKFhcYGRolJicoKSo0NTY3ODk6Q0RFRkdISUpTVFVWV1hZWmNkZWZnaGlqc3R1dnd4eXqDhIWGh4iJipKTlJWWl5iZmqKjpKWmp6ipqrKztLW2t7i5usLDxMXGx8jJytLT1NXW19jZ2uHi4%2BTl5ufo6erx8vP09fb3%2BPn6/8QAHwEAAwEBAQEBAQEBAQAAAAAAAAECAwQFBgcICQoL/8QAtREAAgECBAQDBAcFBAQAAQJ3AAECAxEEBSExBhJBUQdhcRMiMoEIFEKRobHBCSMzUvAVYnLRChYkNOEl8RcYGRomJygpKjU2Nzg5OkNERUZHSElKU1RVVldYWVpjZGVmZ2hpanN0dXZ3eHl6goOEhYaHiImKkpOUlZaXmJmaoqOkpaanqKmqsrO0tba3uLm6wsPExcbHyMnK0tPU1dbX2Nna4uPk5ebn6Onq8vP09fb3%2BPn6/9oADAMBAAIRAxEAPwD9/KKKKACiiigAooooAKKKKACiiigAooooAKKKKACiiigAooooAKKKKACiiigAooooAKKKKACiiigAooooAKKKKACiiigAooooAKKKKACiiigAooooAKKKKACiiigAooooAKKKKACiiigAooooAKKKKACiiigAooooAKKKKACiiigAooooAKKKKACiiigAooooAKKKKACiiigAooooAKKKKACiiigAooooAKKKKACiiigAooooAKKKKACiiigAooooAKKKKACiiigAooooAKKKKACiiigAooooAKKKKACiiigAooooAKKKKACiiigAooooAKKKKACiiigAooooAKKKKACiiigAooooAKKKKACvPfjt%2B1J8FP2b5NGsfil4g1Maj4ilnTQNB8OeF9R1zVNR8lVed4bHTbee5kjiVkMkixlI96biu5c%2BhV4N%2B0P8D/j5/wANJ%2BDv2tv2bLLwfrWueH/B2seFNX8KeOdcutLtLywv7mwuxcQXtraXj288U2noCpt3WVJSCUKK1ABpf/BTL9izWLvxPb2nxXv0h8FWsk/jLUrvwXrEFjoIS0iu9l5dy2iwWsrQzRskMjrJIWKorMrKL2n/APBQ/wDZK1HwBrXxFTx/q9vB4f1ay0vVdE1DwNrNrrkV5ebfscC6PNaLqEr3AYGER27eaAxTcFYjy2b9gH4y%2BMf2a/jn8NfGHinwppHin4o/FS38daHc6U1xeWFpeW0OiywQ3IkihkkiN3pRRwoyYHGDuJVaPi79i/8AaV%2BLmr/Ef45fG34S/CjWvFnjWx8KaPp/gKy%2BI2s2Wm6fY6Hcaldw3qa7b6al5DqDXOqTOksVoPJSKNFZiWcgHsviH9vv9mzwv4a8OeI9XvvG3meK0v5NE8P2vwm8SXGuSRWUscV3NJpMWntf28MLzQq8s0CIpmiy37xM%2Bmaz8RPBHhv4e3XxX8T%2BJbbSvDljo76rf6vqrfZYbSySIzPPMZdvlKsYLNvxtAOcYNfGHin9hH9s/WPgX4X8Nay3hfxV470a58RHRfGV/wDHbxNpGr%2BCLW%2BuUktLO11q1sJLzXIYkjhEy3qw/aTbReYCFGPUfjR/wTotfj1%2Bzb4n%2BHHxD%2BOfjW78d%2BMPhfH4Z17xS3jbWho818tpDE2oJoS3y2FuzzQLK3kRRSEPIBIrSM5AOkg/4KUfsZf8K58V/FbWPite6Jo3giysr7xQ/ifwdq%2Bk3NlZXkxhtb37LeWsVxJaSyK6pcxxtC3luQ%2BEYjj/AI3f8FZP2d/hn8ENU%2BMfgPRfFXiqbQfiD4X8L674Y/4QXXbHU7A6zqVrax3T2cmnNdeV5Fw88DeT5d48aW8MhknjB8r1T/gmJ8ZPHfwq8faR4i8DeG9G8Y%2BI9D0fR7DxDqv7RfjPxut3aWusW%2BoTRyf27AfsEZ8likUSzHe%2BGkxknv8A9qH9gz40/GD4g/F/4g%2BBfEPheOTxfB8LbzwlZ6tfXMSvf%2BE/EdzrUsN40dvJ5ENwGt4VljEzrl2MfyKrgHqFh/wUE/Zb1H4m2XwZh8T%2BJo/Fd5oun6xLoF38N9egudO0%2B9adILu/SSyU6dDut5VeS68pYiFEhQum6j4a/wCCmH7FPi3wZ4s%2BIWkfGC4TR/Bfgi68Zaxe6h4S1W0Fx4et0Z5tWsVntUbVLNVQ4nsxPGxZArEugbB0P9kP4ofEP4mfG74g/G9fD2gxfGj4O%2BHfCF1Y%2BE9duNRl0u4tE11Ltlnns7XzYwNViMT7FZikm6OPA3fN37Y37Kn7UOj/ALDHxS%2BJv7TF34AtIfhD%2BxT8QfBHhePwFqF5cNrzXukWxn1G6W5toBYqE0i3CWcbXAVppCZ22oKAPrPw9/wUl/Yy8TaHrHiPT/i1dQWehppU1/JqnhLVbJmtNSu1s7HUIUuLVGubCWdgovoQ9qoDO0qorMPT9E%2BLvw88R/FLX/gvofiH7T4k8LaXp%2Boa/YR2k22zgvmuBa7pinlF3%2ByzHy1cyKoRmVVkjLfJOofsz%2BIPFegeKfjb/wAFIvF/wz8J%2BBbf9nu5%2BHUlx4f8QTLay6beyQyXmq3k17BbpYOTBbCG2QzCAmT/AEiQsuOw/wCCPngP4u2f7I9r8f8A9pDUDf8AxJ%2BL15H4n8V6g9nJbtJCLSCy01fKl%2BeH/iX2lpI0TYKSzTZAYtkA%2BqqKKKACiiigAooooAKKKKACiiigAooooAKKKKACiiigAooooAKKKKACiiigAooooAKKKKACiiigAooooAKKKKACiiigAooooAK8R0j/AIKMfse6ld69Z6n8Urzw83hzw5c%2BINQk8a%2BEdV0GObSbd0jnv7WTUrWBb63R5IlaW2MqAyxjOXXPtN7FczWcsNndCCZ4mWKYx7/LYjhtp64POO9fmJq//BHL9uX4v6t4X1z43fHHQ31vw14P1Cz1DxRqHxW8TeJx4h1v7ZpV9a6idLvoobLSbaS50xfPsLIBRHJtWWQKgUA%2B2X/b/wD2YbX4aN8WNY8QeKtK0ttcg0axs9c%2BGWv2GqanfzIZIYLLTbixS9v2kQM6/Z4ZAyo7AkIxHReA/wBqz4H/ABH1%2By8J%2BHPEOqQ6vf8AhSfxJDpGteFdS0y7TTYbv7JLLLDeW8UkDrP8hhkVZe%2BzbzXk3xO%2BDn7bvxib4e/G3XPBvwq0P4h/Cjx1NrHh/wAM2vjjUr/Rdcs7jSbvTLmO4vn0qGaxmKXskkbpa3AjMQU%2BYJGxV%2BJPwG/bg1/4y%2BHf2mvA%2BjfCu08WX3ww1XwX4x0LUvFepSWGkLcX8N1a39lcJpwk1AxCN1kt5YrQSlxiWLHIB3Gk/wDBRv8AZA8R694F8LeFfiNqus6n8SfBuleLfBunaJ4H1m9nvND1F9lrqMiQWjNa2%2B7HmSTiNbcMpm8oMCdj4a/tufs3fFf4jXPwn8M%2BL9Ws9ft9LudThsvE/gzVtEW/sbeRI57uyl1G1gjv4I3liDy2zSIvmISQGUnyj9hT9hL4sfsw6/8ADjWfHniDw1dnwd%2Byl4R%2BGN%2B%2BkXM8rNq2lvM1zNF5kEe61bemxmKu235o0wK8a%2BGn/BKv9sbxP8UfC/ib9qb4w2eqRaf4A8V%2BF/GniaD4v%2BJNavPEUur2KW39p2umX0Men6EcqWNpaKUXKgTOI1WgD6l8J/8ABRf9kfxrosfirQfHeuf2Hcarpen6f4lvfh/rdrpWoy6lex2VlJaX09mlteQS3M0UYuIJHhBlQs4VgT6X4W%2BLvw88a/EDxT8LvC/iH7XrnguSzj8T2iWkwWxkuoPtEEZlZBG7tCVkKIzMiyRlgokTd8w%2BOPAnxF8K/wDBPbxp8CP%2BChnif4VeCPAWg/DSLQLb4meHfFt2GadI0trXUntLqzgTTZlmFvJDBHcXTGcoiOTtDdr/AMEr/h98WPDf7ImlfFX9oqwS3%2BJ3xYvpfHXxEhW3aL7Pf36xmG02N8yfZbGOys9pyQLXBoA%2BjaKKKACiiigAooooAKKKKACiiigAooooAKKKKACiiigAooooAKKKKACiiigAooooAKKKKACiiigAooooAKKKKACiiigAooooAKKKKACvF/j14/8A2i/%2BGi/AvwI%2BAvjPwV4fTX/BXiXXtX1Pxf4Lu9aJOnXeh28MMMdvqVj5Yb%2B1JWZmZ8%2BWgAXkn2ivCviLrSWX/BSr4Q6LIoxe/BP4hsjZ53R6t4NOPyZj%2BFJtLcuEJVHaPZv7tWX/APhB/wDgoX/0dB8Gf/DD6t/81FH/AAg//BQv/o6D4M/%2BGH1b/wCaivZqKZB4z/wg/wDwUL/6Og%2BDP/hh9W/%2Baij/AIQf/goX/wBHQfBn/wAMPq3/AM1FezUUAeM/8IP/AMFC/wDo6D4M/wDhh9W/%2Baij/hB/%2BChf/R0HwZ/8MPq3/wA1FezUUAeM/wDCD/8ABQv/AKOg%2BDP/AIYfVv8A5qKP%2BEH/AOChf/R0HwZ/8MPq3/zUV7NRQB4z/wAIP/wUL/6Og%2BDP/hh9W/8Amoo/4Qf/AIKF/wDR0HwZ/wDDD6t/81FezUUAeM/8IP8A8FC/%2BjoPgz/4YfVv/moo/wCEH/4KF/8AR0HwZ/8ADD6t/wDNRXs1FAHjP/CD/wDBQv8A6Og%2BDP8A4YfVv/moo/4Qf/goX/0dB8Gf/DD6t/8ANRXs1FAHjP8Awg//AAUL/wCjoPgz/wCGH1b/AOaij/hB/wDgoX/0dB8Gf/DD6t/81FWtf%2BN/7InwptNI0n46fGH4c%2BHNc1DRYNQNt4u8Q2Fpd3EcmR5%2B24dXZGdJAG6ZRhnggZv/AA1//wAE4P8Ao6L4I/8AhbaP/wDHa5p4zB05OM6sU10cop/c5JntYfhviTF0I1qGBrzhJXUo0a0otd1KNGUWtHqm1puWP%2BEH/wCChf8A0dB8Gf8Aww%2Brf/NRR/wg/wDwUL/6Og%2BDP/hh9W/%2Baiq//DX/APwTg/6Oi%2BCP/hbaP/8AHa9O0DRfhZ4r0Ky8U%2BFtJ8P6lpmpWkd1p2o6fBBNBdQSKHjljkQFXRlIZWUkEEEHBq6WJw9dtU5xlbtJP8mznx2TZzlcIzxuFq0lJ2TqU6lNN72TnTgm7a2Tbtra2p5z/wAIP/wUL/6Og%2BDP/hh9W/8Amoo/4Qf/AIKF/wDR0HwZ/wDDD6t/81FeefD7/go1%2Bxf4v8D2fjDxD8PfE%2Bgz6p441rwtomjXPwe1ue81a9064v45FtIodPZ7omHT552WJXMIBjk2SKyjsviF%2B1R%2By14FsvHtpeaJFp%2BseAvCGteIby28WeBNW0mzu7PTF/0ue3upNOcXtvEzRCSWyS6KiaNgj70V9jzTR/4Qf/goX/0dB8Gf/DD6t/8ANRR/wg//AAUL/wCjoPgz/wCGH1b/AOaiqth%2B1Z%2BxhqHxnk/Z%2BhvLf/hKLfxBHoN1H/wg1%2BLCHVX06PUo7FtQa0Fos72kqTJGZQzg4UFgVGz8a/ir8FfhJ%2Bzzrv7Q%2Bj%2BEdG8Uadpdg0mm2%2BhrbSDVbppRBBaxTAFA0lwyQ7idqsxLdDQBQ/4Qf/goX/0dB8Gf/DD6t/8ANRR/wg//AAUL/wCjoPgz/wCGH1b/AOain/s4fEC2%2BLl54y8D/FH4FeG/CvjDwH4gh0zX9K0fUV1WxkWextr23uba6ktLZ5Y3iuVU74I2WWKVcMoV38n%2BKf7ZniH4AeHvihN8b/2QvBdlrXgL4PX3xD0vTvD/AI3F/b31lbvKn2a9nk0yA6fM7xgKVjuI2CzFXfyWBAPVf%2BEH/wCChf8A0dB8Gf8Aww%2Brf/NRR/wg/wDwUL/6Og%2BDP/hh9W/%2BaivJfiV%2B3N4b%2BGn7PXg343X3gb9ny/Txp8RB4ZtNZ0/41o/hSziNld3P2qfWjo42sGs3hMQtyN8ifvMkganxH/a%2B0zwH8cfhn8Bf%2BFY/BCLU/H/g5NcOoeIPiyun2c0hubeA2mkv/ZMjas7eeXjO23MiqDtXdwAejf8ACD/8FC/%2BjoPgz/4YfVv/AJqKP%2BEH/wCChf8A0dB8Gf8Aww%2Brf/NRXH/Df9qDw38Sf22/iB%2ByTZfDX4TWUXw/1uDT7v7Z8QUHia/jk0HTdVF7BoY07BtQ%2BpJbGU3QGYJWxkCM50f7Wtx4c%2BEXx5%2BIPxR/ZL0HTtV%2BCHiM6bLouha8uoxanC%2BkabqkV1JcNYwm1URaknnARzCFYJHDSgAUAeg/8IP/AMFC/wDo6D4M/wDhh9W/%2Baij/hB/%2BChf/R0HwZ/8MPq3/wA1Fea/Cr9rXVPjh%2Bz/AOKPjd8LfgT8GdRg8G%2BJ7vT9Y1tfilJJ4XvrC3sIbybUdN1e20WZr2OMzG3kBtogk9tdJvbyhvpeJv27dJ8G/Af4J/EfxH%2ByNp0Xi34tXHhmXWPBEWrRt/wimmatqWn6e17cXLWimUwzanaRiHykaWR2UFVjklQA9X/4Qf8A4KF/9HQfBn/ww%2Brf/NRR/wAIP/wUL/6Og%2BDP/hh9W/8AmorlfBv7Uvw7%2BI/7XmsfszeCvA3wwNr4b1KXT9Yl1fxxBbeIbmeKzW4llsNFWzka6tY5JY4HneeHDpPtRhEDJnfB79pfxB8X/iH8RfgdoH7P/wAItQ8a%2BAtPtJ5U8MfExtT0aG6luZ4X03Ub5NHSXTb6MW7SG3%2BzTHayklc8AHd/8IP/AMFC/wDo6D4M/wDhh9W/%2Baij/hB/%2BChf/R0HwZ/8MPq3/wA1FeJn/goRpXh/4Pt44%2BKH7Pfwu8M6xf8Axc1jwP4bfUviUkPhu6GlpN9t1K51e50uF7W3S4tL21AFrKzzRRBcibKdB8Vf2zbb4YiW%2Bg/Zn8G67pnhD4caP43%2BLWsaP4uSS20bSdQuLqGOXS3/ALPxq5VNPv5zv%2BxgwwoQd0qoAD0z/hB/%2BChf/R0HwZ/8MPq3/wA1FH/CD/8ABQv/AKOg%2BDP/AIYfVv8A5qK5fV/2jNM8N/tl6P8Aslaz8Hvhtdz%2BI4rybSV8PeNVvdcsLaGzluVv9U0o6dH9gsZHiNutws8w86e3TaTKdnH6n%2B2lrXwu1b4rWH7Qv7KPgHSoPhh4e0G5e%2B8HeO21SHUNW1i6ltrLSWe80mwW2lLLbO8jFkRL6BjwW2gHrH/CD/8ABQv/AKOg%2BDP/AIYfVv8A5qKoeB/HH7Vng79qzw58Efjd8R/h74m0bxN8PfEOuQzeFfh5faLdWl1pt9oluis9xq98ksbpqkpKhEYNEhDYyDf%2BCPjjTPjN8BLz4sNoPwzSfbdnTtR%2BFvjVfEWnMIl4kjvxZ2hMgcMrII/lKfebPB44/wCUhfwv/wCyM%2BPP/Tt4QoA9mooooAKKKKACiiigAr5x%2BE3ir9u/466Pr3jvwv8AG/4SaBpdv8QvFWh6XpV/8H9Uv7iK10vXr/TIWluE8RQLLI8dmrsyxRrucgKABX0dXjP7B/8AyRDXP%2ByzfEf/ANTXW6AD/hB/%2BChf/R0HwZ/8MPq3/wA1FH/CD/8ABQv/AKOg%2BDP/AIYfVv8A5qK9mooA8Z/4Qf8A4KF/9HQfBn/ww%2Brf/NRR/wAIP/wUL/6Og%2BDP/hh9W/8Amor2aigDxn/hB/8AgoX/ANHQfBn/AMMPq3/zUUf8IP8A8FC/%2BjoPgz/4YfVv/mor2aigDxn/AIQf/goX/wBHQfBn/wAMPq3/AM1FH/CD/wDBQv8A6Og%2BDP8A4YfVv/mor2aigDxn/hB/%2BChf/R0HwZ/8MPq3/wA1FH/CD/8ABQv/AKOg%2BDP/AIYfVv8A5qK9mooA8Z/4Qf8A4KF/9HQfBn/ww%2Brf/NRR/wAIP/wUL/6Og%2BDP/hh9W/8Amor2aigDxn/hB/8AgoX/ANHQfBn/AMMPq3/zUUf8IP8A8FC/%2BjoPgz/4YfVv/mor2aigDxn/AIQf/goX/wBHQfBn/wAMPq3/AM1FH/CD/wDBQv8A6Og%2BDP8A4YfVv/mor2aigDxn/hB/%2BChf/R0HwZ/8MPq3/wA1FH/CD/8ABQv/AKOg%2BDP/AIYfVv8A5qK9mooA8Z/4Qf8A4KF/9HQfBn/ww%2Brf/NRR/wAIP/wUL/6Og%2BDP/hh9W/8Amor2aigDxn/hB/8AgoX/ANHQfBn/AMMPq3/zUUf8IP8A8FC/%2BjoPgz/4YfVv/mor2aigDxn/AIQf/goX/wBHQfBn/wAMPq3/AM1FH/CD/wDBQv8A6Og%2BDP8A4YfVv/mor2aqeueINB8M6e%2BreJNbs9PtY/8AWXN9cpFGv1ZiAKTaSuxNqKuzyX/hB/8AgoX/ANHQfBn/AMMPq3/zUUf8IP8A8FC/%2BjoPgz/4YfVv/mop/ij/AIKG/sJ%2BDb5tN8Q/te/DqG4T/WQR%2BLbWV0Powjdip9jzXOaj/wAFYv8AgnJpaF7n9rvwiwHX7PcyTH8o0NcU8zy2DtKvBf8Ab8f/AJI8%2BecZRTdp4mmv%2B34f/JHQf8IP/wAFC/8Ao6D4M/8Ahh9W/wDmoo/4Qf8A4KF/9HQfBn/ww%2Brf/NRXAXX/AAWr/wCCYVnKYZf2qrAkd4vDuqOPzW1IqP8A4fa/8Evv%2BjqLT/wl9W/%2BRKx/tvJv%2Bgmn/wCBx/zOf/WPh9f8xdL/AMGQ/wAz0P8A4Qf/AIKF/wDR0HwZ/wDDD6t/81FH/CD/APBQv/o6D4M/%2BGH1b/5qK83uf%2BC33/BL%2B3AEf7TizuxwkVt4Q1iRmPpgWn86qz/8Ftf2ERGZ9N1rxrfxdprT4e6ltP0LwrSee5Kv%2BYmH/gSf5XF/rHw%2B3ZYum35TT/K56l/wg/8AwUL/AOjoPgz/AOGH1b/5qKP%2BEH/4KF/9HQfBn/ww%2Brf/ADUV4L4n/wCC/n7Enh6JnsvBvxP1V16xWPgwRsP/AAImiA/OuL1T/g4s%2BBkIM%2Bkfs9%2BI5Iv4BqHirRraXH%2B1H9pZlPtXPU4nyCm7PER%2BV3%2BSPXwjxGYR5sHh61Zd6eHxNRffTw01/wCTH1d/wg//AAUL/wCjoPgz/wCGH1b/AOaij/hB/wDgoX/0dB8Gf/DD6t/81FfFOq/8HMPwysGZbb9lPWZiP%2Bpys8H/AL4R6qab/wAHLdhrcmzQv2GfEF7zx9m8WK5P4LZmuZ8Y8Np2%2BsL/AMBl/wDIntR4a4vnDnjk%2BNce/wBSxdvveHR9w/8ACD/8FC/%2BjoPgz/4YfVv/AJqKP%2BEH/wCChf8A0dB8Gf8Aww%2Brf/NRXyX4b/4LufGvxkwTwh/wSs%2BJuqseg025uZyf%2B%2BNPNdjp/wDwVQ/bo1kBtL/4Iz/EwBun27W5LX8/MsBiuiHE2T1VeE5P0p1H/wC2HkYqlj8DLlxOEr03/foVo/g4p/gfQf8Awg//AAUL/wCjoPgz/wCGH1b/AOairf7K3xG%2BNPjDWPih4E%2BOmv8AhfVtU8A/EKLQ7PVfCfhq50m3urWXQdH1NWe3uL28ZZFk1GVCwl2lY0O1TnPhsP7cH/BU/wAW6c8ngr/gkFcWUv8ADNr/AMXdOhA%2BsUkULH8DXX/8EzvEvx08YT/HXxH%2B0p8OLDwj41ufjPEdZ8O6ZqCXcFmF8J%2BHFhCyo7q%2B6AROcMcFyOMYHfhcyw%2BMqclOM9r3cJxX3yS18jkw%2BNoYmTjDmTX80Jx/GUUn8nfyPp6iiiu86wooooAKKKKACiiigAooooAKKKKACiiigAooooAKKKKACiiigDz39q60%2BAd7%2Bzv4rt/2oJPC6%2BBDpudfPjWeCPS9okUxC4a4Ii2mYRgBzgttHOcV84fsr/tJfsOzf8Eb/h5rvxt%2BKngfX/A3hv4A6DN45sDqVvqMSwWlhaw3EE1vGzmQrcKIGhKkmU%2BUVLHaftGigD5k/wCCU4%2BHGo/ALxD44%2BE2t%2BDIdA8UePLvVtN8D%2BAdds7/AEzwPDJa2iR6OrWTvbxT7I1vLiGI%2BWlzfz7C6FZH5j4t%2BK/inb/8FkPgHo3jfwf4f03Rbn4cfEi18MX%2BleJp7y61GPf4bmka6t5LKBLRlMKbVjmuA25ssm0bvsKvjH9s7VzpH/BYz9i7c2I7vw/8T7aQ/wC9YaOVH/fSrXLjJ%2Bzoc3nH8ZRX6nu8OYb63mnsu9Os/wDwGhWl/wC2n2dRRRXUeEFFFFABRRRQAUUUUAFFFFABRRRQAUUUUAeZ6l%2BzJ%2Bzb8aNH0HxT8Yv2e/A/izU7fw/a2sGo%2BJfCdnfzxwKpdYlknjZggZ3YKDgF2OMk1S/4YH/YV/6Ms%2BEv/hudM/8AjFcn8Xv%2BCkH7F/7H0vhz4aftF/GX/hHdbvvClnqdrZf8I7qN3vtX3xLJvtbeRBl4ZRtLBvlzjBBPIf8AD83/AIJZf9HRf%2BWTrn/yFXi4jF8O068o150lNPXm9ne/ndXv6mi8Q8RlS%2BqRzidJU9ORYmpBR62UVXio77KK321PW/8Ahgf9hX/oyz4S/wDhudM/%2BMV6doGgaF4U0Ky8LeFtFtNN0zTbSO107TtPtlhgtYI1CRxRxoAqIqgKqqAAAABgV8rf8Pzf%2BCWX/R0X/lk65/8AIVfT3gHx14V%2BKHgTRfiX4F1T7doniLSLbU9HvfIeL7Ra3ESyxSbJFV03I6nayhhnBAPFdGBxGT1pyWDlTbS15OW9vPlS0v3FLi6rxJ%2B6nmMsTya2dedXlvpe0qtS19rpK%2B1%2Bh4T8MP2F/FfgDx54U1rU/jPpuoaD4H%2BKHirxf4a0uHwhJBdhdd/tZ57S4uTeukpil1VikqQxfu4QjIWYyDyPWv8AgjDLr3inx74kvPjt4diuPGXgLx/4X/tq1%2BF6JrdzH4mkVxcarqJvi%2BqPZbRHCgW3Tyxt2pgMPdrD9vz4R6vp1jNpPhTxHNfXWi%2BLdSu9Jl%2BwW8ulp4cvVsNRju5J7tIIGF26QIzS%2BWxJYusau68J4N/4KfeB/jtN8ONR%2BAkFnLY678Z9R8DeN4L%2B%2BsdSl082/g3V/EKG2udKvrizldjaWB3pPMgSaaNgkqnyvSIOuk/YYD%2BIdV18fFDB1P466T8RzENE/wBX9i0jT9N%2BwZ8/5t/2DzPOwNvm7fLbbubvPjX8DtQ/aA/Z5134JeP/ABjFb3%2BtWDRp4g0PSzALK6SUTWt1FBLLLloZUhfazsrtGc4DYHzx4t/4KrSv8EPCnjX4RfCnX/Ed7qkHw9k8R%2BKZfD8Fvo2it4ku9OVILmAak1zHcNa3vmqkBuooGmg82ZlJLfSHxh%2BPHh/4SfALx58fbrRtSubHwF4f1jVL6yuNPmtJbgadDLLKsYnRSyt5LBJVDRuCGRmUgkA534Dfs/8AxQ%2BFOqeI/HXjP4taH4h8WeOPFsOreMtSs/B81hZvawadDYwWVjbNfTPa7Vt4pDJLNcFnef5QJEEXG/s8fsmftR/BZPH%2BveLf2lfAHizxZ46uJL248WXPwjvYLg3QfFrFcIdckWWxtoCYIrSH7PtBL%2BZ5jyvJs/stfGz4/eIfip4m%2BA37So8I3PiLRvBXh3xXa6l4L0q5srQWuqyalAbJo7m5uHeW3n0ubM4dFlSaMiKMhlrD8V/tA/tPfDf9pC%2B%2BD2qX/gbxfFqXgLxF4m0jSPDXhe%2BttQ8Ow2csSad9vke%2BnS8W6aR4hsitWaSCXy1dUkMYBp%2BBv2XP2h/hppHjDxL4N%2BPngb/hPPH/AI7TxF4o1fUfhXcy6NhNLt9NWC106LV45YXMVpbu00l3Mzt5uRtdFj5rxP8A8E9vHuofsnWH7EXhj49aFZeALrwjJoXjGW/%2BHrXOr3iTSySXEun3Ed/FBpp/esIVNtcC3KxlMlBXGeH/ANuX9qHVf2MdV%2BJmnavomtfFXTNa8GQeIPB9r%2Bz14osrzwpaarqlhb381xoU1%2B%2BpaisFrNfTxywNEkv2Nyu8I9dLf/td/Hvx/pvgTwB%2BzX8R/hx4i8U694P8WeJNY8U6x4E1Sy00rod7Y2UmljS31AXdhdtc6jFDIZ55GtzaXBeEsyxKAek%2BPP2avij8U/j94T%2BIvj34ueHD4S8DeLG8R%2BGvD2j%2BBZLbVvth064sVW51N7%2BVJIdl1MSsVrCzgRozlQ4k4Cf9gn48eKrL446N8SP2m/C1zY/GHxDZ69ap4e%2BGVzYy6Pf2dppdpbrK0%2Br3KX1qYdJgWe3McRm82Yb40cIvnl3/AMFTfiv4k%2BKvw%2BbwN4U0ew8KeM7H4e3tvpuqeFNRvHubbxJKgmkm1yCdLDRZbaOQmK1vImlvpIljgy1xGB6B8HP2xP2gfiH8TvD7a1Y%2BDovCPxN1Lxjpfw%2BtrbSrtdQ0m50W5mit5b%2BY3TR3cd1DbXEzJFFbtbkRxbptxkUA2L79gvxb4w%2BCXxX%2BGnxJ%2BN%2Bn3Wr/ABr8VWmoeP8AUtA8Hvp9hJpy2%2BnWF3p1tZvezPF9p06wa3eeS4lYSXLyYZUSEWf2v/8Agmx8Ff2t9QXxdqHiPxb4Z8StfeGPter%2BHfHWuWMNzp%2Bja1HqkVo9nZX9vAzH/SUiuCpkt3ufOjO%2BNK4af9vj4yfDv9je%2B%2BJ3xZbwldeO1%2BNV/wDDmwvdD8MaiulPcR%2BIJtMiu/7PS5ubuYiGJpfssUpkuJVWKNozKCtn4xftjfGnwT%2BxXF%2B098PPjJ4Q8RXOiHWIvEIs/gD4lmW/vLZ5vLspLKPUvtPh3yjBJDc3F%2BZYoXw8nlKNhAOnk/4J9z23x9k%2BI2gfFDTbDwlP8UF%2BIs/h1PCRbVG8QjSRppb%2B0zdY%2BysqiV4jbmVmZ088RN5Y6X4b/s3/ABy0j4q6/wDHn4rfHjw5rHi%2B/wDBEfhrRJfDPw/l0nT7SJJ5bhbi5t5tRupLyUSyAj99EipvVVUyux5D4kftvfEez/aQ%2BEnwf%2BGvg/QpdH17xJaaX8UtTvJ3u/7Lur3RL7UrTT7KWCRY3uAloJpZGDqsE1sQh%2B1K8eX8R/2l/wBsP4SfHf4heDjrnw08Z6H4H%2BCOseO7rTrTwpdaDc2lyZZE0Own1C51e4t9twLLU/NnaGIILQNhVc7QDpW/YEj8L/BP4L%2BBfhX8QtNs/FnwPuUu/DnivxR4XbVINQu5NNurC%2BuLu0jurd2e5F5cTlo7iNlmKtuZQyPxZ/4JU3mk%2BBIfhb4N/aBSy8P%2BIvh9p/g34r2t54RE0viDTLW/vr3bYMl1GmlM51XUYDmO5VYJ40VQ0KueL0L/AIKX/tEXnwf8VeIHtNCvdQ0jxn4W0m11yT4P%2BINLura31ZFaWVvClzdnVr4xEhYjBIouvMdogRbSbrFx/wAFEv2lNQ%2BGXwx%2BI91qfhfwl4e12y8byeO/Ht18FvEWv6fpj6NrFtY2LXNpZ30MugfaLd7q5nj1CUtZvbvBKyvDIaAPofxB%2Bzr8X/iB%2B0P4S%2BK3xJ%2BNOgXHhrwB4kvta8JeHtD8Dy2Woedcadd6eIr3UJL%2BZbiFIb2ZtkVtAXkSFmJEZV8LxH%2BwP4f8bfA/4qfCzxx43TU9V%2BKXj6bxZqGvy6Ipjgu4bi1fSI2tnkYTxWdvp2m27KXUTi1Y4i83aurrvxn%2BM2iftweCfhJFq3hC8%2BHXjjwJrmq2K22kXB1WG70%2BTTAJDd/ajA8Ei37YQW%2B4bFPmHOKxfhd%2B0b8a5/249V/ZZ8f6jomsaWnhHUddg1Cy%2BHOq%2BHX09obyxigto57%2B7nh15XivHMtzZBI7Z7ZFlVWuokAB0Xwe%2BAHiP4I%2BCPif4k8eePdP8ReJviFrtz4j8R3uieHm0nT0uBpVnpyR21o9xcvEvkafAzF55HeVpHLAMqK3xx/ykL%2BF/wD2Rnx5/wCnbwhXqXjn/kSdY/7BVx/6LavLfHH/ACkL%2BF//AGRnx5/6dvCFAHs1FFFABRRXH/Gn48/DH9n7w7ZeJfidqt/DHqmqJpuk2WjaBe6rfahdtHJKILazsYZri4cRQzSlY42KxwyO2FRmAB2FFefeIf2pvgP4a%2BDWifH668dfbPC3iZbI%2BGrzRNLutRn1drsA20dra2sUlxcyODkRxxs4AYlQFYjA8Vft4fsyeDfAOlfFLW/Fmut4e1azu7v%2B17DwFrV3DpsNpJ5V2%2BotBaP/AGUIJA6S/bPI8popA%2B0xuFAPYK8Z/YP/AOSIa5/2Wb4j/wDqa63XscE8F1Al1azJJFIgaOSNgVZSMggjqCO9eOfsH/8AJENc/wCyzfEf/wBTXW6APZqKKKACiiigAooooAKKKKACiivK/jf%2B3D%2ByJ%2Bzeky/Gr9ofwtodzACZNMl1NZr7jri1h3zN%2BCGsq1ehh4c9WSiu7aS/Foxr4nD4Wm6leahFdZNJfe2j1SivkJP%2BCmPxf%2BOTi2/YY/YS8deObOQ/u/F/i9k8OaK6f89IZbkF7gY/hCq3PT1n/wCEh/4Lb%2BL%2BdL%2BHf7PHg%2BJvvDW9W1bUJ0Ht9nAQn68V539s4Wf8GM6i7xhJr5N8qfybXmeSs/wVTXDwqVV3hTk4v0k%2BSL9U2vM%2BtqK%2BSW%2BB/wDwWK8VKYtd/bi%2BGfhYScPJ4Z%2BGpvWiB7qLtwCR2zXHfE79iT4MeGrddQ/4KE/8FTvHmspMMy6TrfxCtvDWlXGeuLOIqTnoNr%2B1TUzPFKPNHDSS7zlCC%2B9yk/wOnC4jPMzrqhl%2BXValR7J8qb9Ix9rN/KDPqf4o/tXfsx/BKRrf4u/tBeDfDk6nBtNY8R20E5PoImfeT9BXj3ib/gs3/wAE1/DM32IftL2mqXTHbDaaDoeoXzzN/dUwwMpP1IFeG%2BG/id/wbv8A7NjrZeDtJ8AaxqCnbbiHw1e%2BJbqV/RJZYrjDH13j616N4c/4KD3N/B9g/Yx/4JdfFLW1cbbW%2BvPC9t4X0uf023M2Rt9SUGK82Wc15Oyr0U%2B0FUrP/wAlsvyPtKHhd4yYqmqtXARwtN/arRlSj/4HiamFi/lF%2Bhrr/wAFYbbxaf8AiyX7CH7QHjGE8rqcHgL7HZOP9maeQEn22ilb9vj9t7Wh5Xgj/gkt49uJX4iGveNNN0xCf9ppA22mLF/wWc%2BNB8yS6%2BEPwV02T7saRz%2BItXhz6k4tGx7Y59qUf8E0vjb8QD5/7Rn/AAU3%2BM2vu3Mtr4MvLfwzaSHuGhtlcFfbIpe1zuv/AA3UfnyUqS/8nc5ffE1/4h1Swn/I34pw9N9Y4ek8TJeV6VP2d/8AuNL1aIr34tf8FlPF1uZ9I/Zx%2BCfw4gb70/jjxtc6mYR7mxAUn9M1yOv2P7at9uuvjN/wWh%2BFngBBzLpvhbwnpJjH0nvp1kXH0rurL/gil/wT8nuBqHj74c%2BIPGN6P%2BX7xX441O5kJ7khJ0U5/wB2uw8P/wDBKv8A4J1%2BGSp039kLwZJt6f2hp5u/z89nz%2BNH9nZzV/iO/rWn%2BVKnBfiL/VXwqp/7zm%2BZYh/3aVGjF%2Bl69/vXyPlbxXqH7PelxPL8Vv8Ag4T8YXoX/Wr4K8W6fbsfXatkkxH4A1wM3ir/AIJbeI5mgj/bU/ay%2BLZUlZmttY1m7Rm9CRawg/hx71%2Bk3hX9kr9lXwLIk3gr9mj4f6Q8f3JNM8G2MDL75SIGu%2Bt7eC1hW2tYEjjQYSONQFUegA6Uf6v4ip8bpr5VZ/8ApdZL8A/srwUw%2B2WYzEv/AKfYuEF81ShU/M/Jn/hV3/BLHX/m0v8A4Je/tVeO7tvuXbaLrbE%2B5c38YA98Vb0X9lH9n9tQTVvhz/wQC%2BJF/s/1S%2BMfiNPZr/wKK5u5F/MGv1eoprhag3eUofKjSX4vmY1Lwmw7vQ4UoN96uIxFT8IxpL8T8%2BPC3w//AGj7CyXR/hn/AMEEPhB4TjP3b7xF400O53ehdYLfzSfqSa6PTv2cv%2BCnutOJtP8AhR%2ByP4Cgb7g07wne3t3H9SUER/CvuSiu2GQ0UrSqz%2BXJD/0ikvzPRhxbkmDVsBw9l9K3ehOs16e2ryX/AJK/Q%2BO7X9iT/go94iiFv4s/4KP6J4ftD9/TvBfwZ02P/vmeVt6/lUo/4JN61r37/wCIX/BRr9oW9mb/AFi6H4xg0uFv%2B2ccDAD2zX1/RW39hZc/jUpf4pzf/t6X4G//ABEviqkrYX2FBf8ATrCYOn%2BP1ao/vb9T5Hg/4I0fs6TZHin44fGrXg33xrHxOuWD/Xy1Srenf8ETv%2BCblvdLqGtfAi71u5Xpca34x1W4P4qbkKfxFfVtFNZFky/5h4P1V/8A0pyB%2BKniRy8sM2rwXaE/ZL7qUKR4Po3/AAS%2B/wCCemhRLFY/se%2BBHC9De6GlyfxMu4n8a6vw5%2BxV%2Bxz4PlFx4V/ZQ%2BG2nyg5E1n4HsI3/wC%2BhFn9a9Norqhl2X0/gowXpCP/AMieJieMeL8YmsRmWImnvevXd/l7a34GdpXg/wAJaFEsGieF9Os0QYRLWxjjC/QKBitEAAYAoorrUVFWSPn6lSpVlzTk2/Nt/m2FFFFMgK8Z/Zf/AOS3/tHf9lmsf/UK8L17NXjP7L//ACW/9o7/ALLNY/8AqFeF6APZqKKKACiiigAooooAKKKKACiiigAooooAKKKKACiiigAooooAKKKKACiiigAr4M/4KW6p/Yf/AAVX/Yg1TdtzqnjG1z/13GiRY/HdX3nX51/8Fjb2XR/%2BCg/7Euvpwlp481H7Q392J9U8ORsf/H68zOJcmWzl25X/AOT0z7jw3oLE8aYWi/tqvH78Li/8kfopRRRXpnw4UUUUAFFFFABRRRQAUUUUAFFFFABRRRQBleBv%2BRJ0f/sF2/8A6LWtWsoeDNDTKwNfQpkkRW%2BrXMaL7KqyBVHsABS/8IfpP/P3qv8A4PLv/wCO0AalFZf/AAh%2Bk/8AP3qv/g8u/wD47R/wh%2Bk/8/eq/wDg8u//AI7QB4f4g/4Jp/s%2BeJfEfxm8S6hq/iYS/G3Traz1y3TUYfJ0QRKS0mmoYSIGmnIuZhL5qSzKpZSvyF/gr/gnd8OfC3i6P4heIPjF4%2B8U%2BID8TpPHd5rHiC90/wAy71NvCs/hfy2S1soYktxYTlljiSPEyI2dm6Nvbf8AhD9J/wCfvVf/AAeXf/x2j/hD9J/5%2B9V/8Hl3/wDHaAPnL/h1J8GLPwvoHgHw58Z/iRpHh3SLHwhDqmg6dqeniDxBN4aa1OmXd4z2LSibbZWyS/Z3gjlSJQyfKuPoHWPh1pHi3wPrvw6%2BIV9c%2BI9J8RQ31tqVrqkcKhrK6Dq9mPIjjBiWNzGpbMhUDe7tljc/4Q/Sf%2BfvVf8AweXf/wAdo/4Q/Sf%2BfvVf/B5d/wDx2gDzP4H/ALHul/Aw6nq2m/HPx3r/AIg1aHRLG58VeJp9NnvxpGlSySWukjy7KOH7Nie8R3aM3Lfbp388SlJUz/hZ%2BxTN8Jfif4%2B%2BKWh/tTfEq9uviLqV3fa1aarDoEq28sieXbCCcaUt0IrOPaltC8zxIq/MkhZy3rn/AAh%2Bk/8AP3qv/g8u/wD47R/wh%2Bk/8/eq/wDg8u//AI7QB5V4b/Y51DwzL4p8VWv7VfxLn8ceLbfS7PUfiLcxaC2pw2GnvcyWtjFANKGnpCr3t4xzaFy11IS%2BQhXA1T/gm/8ADe48I6Vo/h341/ETQfEFhJ4gOo%2BPNI1GwGsaxHrs8dxq0Vw01lJbqlxNDbyfuIYTCbaHyDCEAr3T/hD9J/5%2B9V/8Hl3/APHaP%2BEP0n/n71X/AMHl3/8AHaAPEtT/AOCcXwXm8UwXvhzxn4t0Dwubnw5c6t8O9Hu7MaNqs%2BhfZ/7Mkm821ku4/KFnZqyQXESSraxrIrjeG1vh3%2Bwz8Pfhn8U5vifoPxH8XzR28uuz%2BE/Dd7c2T6b4WudYuRdajcWKi1ErPJNuZRcyTpCskkcSxxuyH1f/AIQ/Sf8An71X/wAHl3/8do/4Q/Sf%2BfvVf/B5d/8Ax2gDwvwP/wAE7fD/AIT%2BFHiD4Ua7%2B0x8SvEqaz44HjHTdd1uPQY7/QNd/tJtSa9szZ6VBEWa7be0dxHPEVHl7BGzo164/YOtY/hlP8LfDn7U3xQ0W11q71a78bahp0uim78VT6jJvuZbp5tMkFu2Mon2JbXy0OFxtQr7N/wh%2Bk/8/eq/%2BDy7/wDjtH/CH6T/AM/eq/8Ag8u//jtAHi/jL/gmJ%2Bwv408c%2BCPiZd/s2eDrXxB4D13T9T0vXLbwtYNfXjWNg9jaQXd1LA888UUTRMgLhle0t2DDywD0/iD9jv4Q%2BMNM%2BMOj%2BM31XVYPjfamy8Yi5vVRobD%2By49NWytXiRGhhWNZZVyWcTXU77vmCr6D/wAIfpP/AD96r/4PLv8A%2BO0f8IfpP/P3qv8A4PLv/wCO0AeGz/8ABOvwhqn2zxP4n/aG%2BJOr%2BOp9Y0jUbH4l3tzpK6vpr6ZHdR2cUMUOnJYmJUv79WWW1k8z7bMXLEqVt337BOlP8HP%2BFG%2BH/wBpj4m6LompSazL40k02fRzdeK5tVuZLm%2Bmu5ptNkaB5JJp8Gy%2ByiNZSsYQJHs9n/4Q/Sf%2BfvVf/B5d/wDx2j/hD9J/5%2B9V/wDB5d//AB2gDyzxF%2BxlY6r8fvAnx18OfH/x14cg%2BHmhyaPoPgnRoNFbSGsZmtTcQSm502W7IlWztlZluVZRF%2B7MZZidLwL%2ByxB4Z%2BNEHx28cfHLxv451nTNIv8AS/DUHiltMjttDtL2a3luY4EsLG2MrObS2XzLhppAsOA43yF/Qf8AhD9J/wCfvVf/AAeXf/x2j/hD9J/5%2B9V/8Hl3/wDHaAE8c/8AIk6x/wBgu4/9FtXl3jj/AJSF/C//ALIz48/9O3hCvUT4M0N8LO19MmQTFcatcyI3sytIVYexBFeXeOP%2BUhfwv/7Iz48/9O3hCgD2aiiigArxL9rbwb8Tj47%2BFPx1%2BGPwyv8AxtJ8PvFt9dat4U0i/sra9urS80i9sjNbNfT29uZY5Z4SVkmjBiabaxYKj%2B20UAfI3h/9nT4ieHf2IvCXwz8Z/CTx5L408D6xa%2BI9Kn%2BGmt6Ct7Yatcz3E8o0%2BTVbhLSVLVbya1kF2ixyxF9iSZArz68%2BA37Ynw5/ZM0H9k%2BH4F%2BOvFmj/ErxT4s1z4z61oHirQH1jTNM1TVrm/OjI97f2UTXd0l6YJ7u3zFCEuWgVWeBo/vqigDC1fw1fa98PW8L%2BGtf1TwZNNp6Q2l7o8Nk93pWFGBGtxFcWxZQNuGSRPTPBryj/gnTpN/oP7N19omq%2BJ77W7mz%2BLfxDhuNY1OOBLm%2BdfGetAzSrbxRQh3I3ERxomSdqqMAe6V4z%2Bwf/wAkQ1z/ALLN8R//AFNdboA9mooooAKKKyvHHjrwZ8M/Cd947%2BIfimw0TRdMgM2oapql0sMFvGP4mdiAOw9yQByaUpRjFyk7JEylGEXKTslu3sateVftSftofs%2BfsfeHINa%2BM3jLyr7UG8vQ/DWmQ/atV1eUnaI7a2U7nJYhdxwgJAZhkV4Tf/tw/tO/trX03g//AIJr/DIaf4Y81ob745ePrB4NNjAOGOm2jr5l445wzLsDDDoAQ1el/stf8E7vhJ%2Bzv4lm%2BMPjDW9S%2BIvxS1EZ1f4keMX8%2B9ZiMFLZGJWziAJUJH8wU7S7AADyHj6%2BOfLgI3j/AM/JJ8n/AG6tHN%2Blof3meE80xWYvkyyN49ask%2BRf4Fo6j9LQ7zZww/be/b8%2BLI2fs8f8Ex/EGm2kv%2Br1v4s%2BJ7bRfJHYvZDdM30VsikH7Pn/AAVm%2BNJ8z4xftseDvhnYS8zaL8JvB5u5WX%2B79svyJImHdkyM%2B1fXLukaGSRgqqMsxOABXzT8ZP8Agqb%2Bzx4I8XP8I/gjYaz8YfH2SqeE/hrafbzCwOCbi5X9zAinhjuZk7qKwxWHoYeCljsVNp9ObkTfZRppSfom2e9kfAXEPFeJdDCuviXFXlytU6cI/wA05Q9nCEV1lUrRj5vY58/8Ei/BfioFvjZ%2B2X8fvHIk/wBfZax8SJIrNh3CwwxrtB9A1d14E/Yp/wCCdn7F2hf8JppXwd8B%2BFILDDP4o8TPHJNCeuTe3zM6Zxnhx09q8%2B/sT/grx%2B06d2ueJfBX7O3hyfrZ6TGviPxFsPVWlbFqmRwGTDKcnHFa/gz/AIJCfsrxa9D45/aB1DxZ8ZfEsZ3DWPih4jm1BEJ5KpbArCE9EZXwABmuajh6Tnz4PBK/89XT7lJ1Kn4R%2BR9fQ8N/D7h6oqucY%2Bk6q/5d4WH1uovJ16ko4eD841KtvPrB4l/4K4fBLxDrs/gb9kb4ZeNPjfr8D%2BXLH4E0ST%2BzrZ/%2Bm9/MFijT/bXevI5qoNf/AOCyvxyIbSfA3wq%2BB2ly8k6zqMniPWIgem0QAWp9w2P519VeGPCnhfwTodv4Y8GeG7DSNNtU2Wun6XZpbwQr6JHGAqj2Aq/Xo/UMbX1xOIl6U0oL7/em/vR6r4t4Yyr3clyek2v%2BXmLlLE1H5%2BzTo4aPoqdS3d9fkg/8E3P2g/iSM/tL/wDBTj4s6%2Bkn/HxYeB0tfDFrKO6Mlsr7k7EZGfaus%2BF//BJz/gn58K7k6rZfs36Nr2pSNvuNU8ZtJrM0z/32%2B2NIgb3VVr6LorSGTZZCXO6SlLvO83983L8EjlxXiVxziaDw8MdKjSe8KChhoPyccPCjdf4pSMTwj8Nfhz8P4Ps3gPwBomiRgYEekaVDbLj0xGorboor0YxjBWirLy0Pi61eviKjqVpuUnu5Ntv1bbb%2B8KKKKoyCiiigAooooAKKKKACiiigAooooAKKKKACiiigAooooAKKKKACvGf2X/8Akt/7R3/ZZrH/ANQrwvXs1eM/sv8A/Jb/ANo7/ss1j/6hXhegD2aiiigAooooAKKKKACiiigAooooAKKKKACiiigAooooAKKKKACiiigAorz39q60%2BAd7%2Bzv4rt/2oJPC6%2BBDpudfPjWeCPS9okUxC4a4Ii2mYRgBzgttHOcV8ieBfjJ8PfiL/wAEKfAmjfCb4q6Trslj8EfCUXi608Ka5HdXlvo9umnW%2BuKVtnaRGjtVvInAAdHBXhhigD79r85f%2BC5X/Ev%2BOXwD8X9P%2BEei1XUd/wDd2%2BIvB6Z/8iV9A/8ABN0/C4zfGL/hmw6H/wAKh/4WdF/wrb/hE/K/sTyf7B0n7d/Zvkfufsv9ofa8%2BT8n2j7VjndXzD/wXJufi7e3d1e%2BK/BPh6w0nQfhVr174T1HSvE895d3yp4t8DeY1zbyWUKWjKCMBJrgNlslcDd5We/8ibEPtBv7rP8AQ%2B/8KWv%2BIl5PB7TxFOH/AIMcqf8A7kP03oqO0uYb21ivLdt0c0aujeoIyKkr1T4Fpp2YUUUUCCiiigAooooAKKKKACiiigAooooAKKKKACiiigAooooAKKKKACiiigAooooAKKKKACiiigAooooAKKKKACiiigArxnxx/wApC/hf/wBkZ8ef%2BnbwhXs1eM%2BOP%2BUhfwv/AOyM%2BPP/AE7eEKAPZqKKKACiiigAooooAK8Z/YP/AOSIa5/2Wb4j/wDqa63Xs1eM/sH/APJENc/7LN8R/wD1NdboA9moorxT/goF%2B0/c/sn/ALM2sfEDwza/bPFmqSxaJ4D0pEDvfa1dkx2yKh%2B/tO6Ur3WJh1IrHE4ilhcPKtUdoxTb%2BX69F3bSOfF4qjgsLPEVXaME2/l%2Br0SXVtLqR/tdft3/AAq/ZQWw8Hvp194v%2BIXiD934T%2BG/hlPP1PU5DkKxVQfIhyDmVxjCttDlSteUeBv2EvjR%2B1t4rsfjj/wU88Q2uow2k4uvDXwQ0Kc/2Bop6q14Qf8AiYXABwdxMYO4ZdGCr6N%2Bw7%2Bwr4O/Zd8Oj4geM5ZfE/xa8S2cc3j3x9rVybu9u7plUywxSvzHbqw2qi4yqIWyQMfQFeXDBV8waq474d1TXwrtz/zy8vgT2Umrnj08vxOatVsyVo6ONFP3V1TqP/l5Ly/hxeyk1ch0/T7DSbCHS9KsYba1tolit7a3iCRxIowqqo4VQAAAOABXjX7W37dXwh/ZMgsfDeqW994o8da%2BRH4U%2BHfhmL7RqurSnIXEa58qLIOZXGMK20Mw21wf7VH7avxE1v4nSfsWfsH6ZaeIfipPEP8AhIvEFwvmaT4GtW4NzePgq0%2BD8kGCc43K3Eb9p%2ByN%2BwZ8L/2WZ77x/f6tfeNfiTr43%2BKviT4mbztRv3ONyRlifs8HAAiQ9FUMX2giqmMxGLqvD4G3u6SqPWMX2ivtSXb4Y/abfun7LgOGsn4dy%2BlmnE6l%2B8ipUcJB8lWrH7NSrKzeHw8vsvldask/YwjD98eSx/skftk/t1Out/t9/EhvAvgWch4vgn8O9SKm4jPIj1TUVO6f0aOL5DwVMZGK%2Bn/g18BPgx%2Bzx4STwN8EPhlo3hjS0wWttIsli85gMb5H%2B9K/%2B25Zj3NddRXThctw2Fm6msqj3nLWT%2BfReUVFeR42fcaZ3n2Gjgm40MJF3jh6K9nRi%2B/InepPvUrSq1H/ADLZFFFFd58mFFFFABRRRQAUUUUAFFFFABRRRQAUUUUAFFFFABRRRQAUUUUAFFFFABRRRQAUUUUAFFFFABXjP7L/APyW/wDaO/7LNY/%2BoV4Xr2avGf2X/wDkt/7R3/ZZrH/1CvC9AHs1FFFABRRRQAUUUUAFFFFABRRRQAUUUUAFFFFABRRRQAUUUUAFFFFABRRRQAV8Hf8ABaXRv7e0q8sdmfL/AGcfHtxj/rjrnguXP/jlfeNfHf8AwU60b%2B3/ABDqelhNzP8Asl/Fh419XS48LOv6qK4c0h7TLK8e8J/%2BkyPqeBcT9T43yqv/AC4nDv8A8r0v8z6b%2BButf8JH8FPB/iHfu%2B3%2BFtPud3rvto2z%2BtdTXlX7Cetf8JD%2BxL8INaL7muPhjoLSHP8AH/Z8Ab/x7Neq1thJ%2B0wlOfeMX98Yv9TzOIMN9Sz/ABmH/krVY/8AgNWrH/20KKKK6DyQooooAKKKKACiiigAooooAKKKKACiiigAooooAKKKKACiiigAooooAKKKKACiiigAooooAKKKKACiiigAooooAK8Z8cf8pC/hf/2Rnx5/6dvCFezV4z44/wCUhfwv/wCyM%2BPP/Tt4QoA9mooooAKKK8C/bSk1PxL8R/gr8FL7xr4g8P8Ahnxv48vrTxHd%2BGPEl3o95e/Z9C1K8t7Fb2zliuIA8tuJj5UiM4tNhJRnVgD32ivjjwxqX7SHx8/4Jz/CrxH4a1zxP4nun1q0fxWfDfipdG13xf4dt57iFZLTUPPthFcXEaWl2zrPbiVPNVZEEorxDwv8X/i18X/hbbaJ8X/jN448CaR4Y%2BHnxb13wxqmn/EO5hvZ20PxIljptzeX9vN/xM/sNkyBxLJPb3Jl86X7SCjkA/TavGf2D/8AkiGuf9lm%2BI//AKmut11ngX4h%2BPrv9nHw98T9e%2BG%2Bp6t4mu/CVhqGo%2BF9GNtBdS3klvG8sEf2yeCFGDswxJKgG3BNcL/wTp1a/wBe/Zuvtb1XwxfaJc3nxb%2BIc1xo%2BpyQPc2Lt4z1omGVreWWEuhO0mOR0yDtZhgkA90r410X/jOn/gpndeJW/wBJ%2BHH7NZey0/vDqXjG4Uec/o32SMBcHlJQGBw9e8fts/H62/Zd/ZP8efHeSdEuNA8PTSaWJMbXvpMQ2qHPZp5IgfY1hf8ABOb9np/2Zv2O/Bnw91e2ddfu9OGr%2BLp5yWmuNWu/39y0rHl2Vn8vcedsS%2BleRjF9cx9PC/Zj%2B8l52doR%2BcryflBHhY9fX80o4L7EP3s/O0rU4/Oac33UEe318sftxftO/E7W/Hth%2BwV%2Bxtfo3xT8V2nna94hQFofBGjHAk1Ccj7szK2IUyGyytwWjD9x%2B3n%2B1nL%2Byn8H4rjwVoo1z4g%2BLr9NE%2BHHheMbpNS1SbCoSuQfKj3B3OQMBVyC6mmfsLfse237Kvw8vNT8Z663iP4k%2BMrkap8SPGNyd82pag2SY1YgEW8RZkjQADGWwCxFLGVauMxH1Kg7aJ1JLeMXtFf3566/ZjeW7ifsfDeBwHDuUrijNaaqNylHCUZK8a1WFuatUT3w9BuN47Vq3LS%2BCNY6X9lH9k34R/se/C6H4Z/CrSnLSyfadd1y9bzL7Wr1h%2B8urmU8u7HJx0UHCgCvTaKK9OjRpYelGlSioxWiS2R8PmWZZhnOPq47HVZVa1RuUpyd5Sb6t/gkrJJJJJJJFFFFanCFFFFABRRRQAUUUUAFFFFABRRRQAUUUUAFFFFABRRRQAUUUUAFFFFABRRRQAUUUUAFFFFABRRRQAV4z%2By//wAlv/aO/wCyzWP/AKhXhevZq8Z/Zf8A%2BS3/ALR3/ZZrH/1CvC9AHs1FFFABRRRQAUUUUAFFFFABRRRQAUUUUAFFFFABRRRQAUUUUAFFFFABRRRQAV8z/th6L/wkf7RGk%2BHtm77f%2BzP8ULbb677vwouP1r6YrxH4oadFrH7enw50mf7l18EPH8L59G1Twip/nWdWHtKUod0196a/U6sBiHg8dRxC%2BxOEv/AZRl/7aZf/AASn1r%2B3v%2BCdPwhvt%2B7y/B0Ftn/rizQ4/wDHK%2Bgq%2BVP%2BCJWpTX//AATJ%2BGsN1xPZDVrSZT/CY9WvFA/75C19V1w5NP2mT4eXenD/ANJX%2BR9Z4lYdYTxFzmivs4rEL/ytUf6hRRRXpHxIUUUUAFFFFABRRRQAUUUUAFFFFABRRRQAUUUUAFFFFABRRRQAUUUUAFFFFABRRRQAUUUUAFFFFABRRRQAUUUUAFeM%2BOP%2BUhfwv/7Iz48/9O3hCvZq8Z8cf8pC/hf/ANkZ8ef%2BnbwhQB7NRRRQAVz/AMTvhN8K/jZ4Rm%2BH/wAZfhp4f8XaDcSJJcaJ4n0aC/tJXRtyM0M6MjFWAIJHBGRXQUUAcZ4o/Zw/Z58ceFbzwJ40%2BA3gzWND1GO0j1DRtU8L2lxaXSWgC2qyQyRlHEIVRGCD5YA24xSeLf2cP2ePH/hnQfBfjv4C%2BC9b0bwtLDL4Y0nV/C1pc22kPEuyJ7WKSMpbsigKpjClQMDArtKKACvGf2D/APkiGuf9lm%2BI/wD6mut17NXjP7B//JENc/7LN8R//U11ugDyf/go1/xfv9on4D/sMWf76z8QeLm8X%2BN4V5X%2Bx9JUyrDKP7k8x2D/AGox0r6w8T%2BJdB8F%2BGtQ8YeKdUisdM0mxlvNRvZ2wlvBEheSRj2CqpJ9hXyd%2Bxd/xkT%2B338eP2wLj9/pfhq6g%2BGfgmc8gQ2RE2olT3V7pkZWHGCRzU//AAVE8T698XJvAn/BO34b6pLBrXxi1j/iqLu1b95pvhi0Ilvpif4TIFEa54fEid6%2BdpYr2OGxGYWu5ytBd1F%2Bzpr/ALelzP0bfQ38OMg/1u4janPkp1pyc6m6p4bDxl7Sp6RhCtNLrKUFvJGf%2Bw74R8S/tlfHK9/4Kb/GXRp7XTHgm0n4F%2BGr5cHS9G3FZNTdP4bi6O7nqEJALIYyPsiqHhbwxoPgnwzp3g3wrpcVjpek2MNlptlAuEt4IkCRxqOwVVAH0q/Xq4DCfU8Pyt803rKX80nu/wBEukUl0Pf4t4ifEmcOvTh7PD00qdCktqVGF1Tgu7tedSW86s6k3dyViiiiu0%2BZCiiigAooooAKKKKACiiigAooooAKKKKACiiigAooooAKKKKACiiigAooooAKKKKACiiigAooooAKKKKACvGf2X/%2BS3/tHf8AZZrH/wBQrwvXs1eM/sv/APJb/wBo7/ss1j/6hXhegD2aiiigAooooAKKKKACiiigAooooAKKKKACiiigAooooAKKKKACiiigDx7/AIKDnxyP2HPiwfhv/af9sf8ACBan9n/sTf8Abtn2d/N%2BzeX8/n%2BV5nl7Pn37dvzYrwD9m7xp%2Bzz4Y0H9oaw/ZDv9Mk%2BGF3piS/DvRvhZf28MepatDoAk1RNCEWY2lC/YtxhBVboylx5vm19wUUAfAP8AwRb0rwj4d8b%2BN9J%2BH3jL4feJ9Ml%2BGngmW81v4R6N/Zuhw6gv9qrPa3cAmmEutgbHu7oukk0b2gktrbyk833e/wBS%2BK93/wAFNvBdn428F%2BHtP0K3%2BD3jgeGtR0rxPPeXd%2Bh1bwl5jXNtJZQpaEYTASa4DbjkrtG76Hrxnxx/ykL%2BF/8A2Rnx5/6dvCFAHmP/AARi/wBA/ZG1Xwh0/wCEf%2BJ/iXTtv93bfu%2BP/IlfWlfJf/BJrOm6Z%2B0D4Qbj%2Bx/2nPFcMK%2BkTNbuh/Hca%2BtK8nItMoorsrfdKa/Q/QPFXXxEzKp/PUU//BlLD1P/AHIFFFFesfn4UUUUAFFFFABRRRQAUUUUAFFFFABRRRQAUUUUAFFFFABRRRQAUUUUAFFFFABRRRQAUUUUAFFFFABRRRQAUUUUAFeM%2BOP%2BUhfwv/7Iz48/9O3hCvZq8Z8cf8pC/hf/ANkZ8ef%2BnbwhQB7NRRRQAUUUUAFFFFABXgH7KniqLwL%2Byf468bzkBNG%2BJvxRvnLdMReMNdkOf%2B%2Ba9/r4u8Y%2BMP8AhBP%2BCTPx88RLL5bjxL8WrWF88rJceLtdgQj33SiufF1fq%2BFqVf5Yyf3Jv9Dlx1f6rgqtb%2BWMpfdGT/Q6/wD4I5%2BGYfA3/BNf4dX%2BqyKlxqlhe63qt7O2Gme5vJ5/OkY9T5bINx7KK5//AIJyWd3%2B058Z/iR/wUq8T2shtfFt43hj4WR3CEG28NWMpUzKDyv2m4VpGXs0bY4amfHDxhN%2Byd/wRNi%2BxFotSsvgzpWg2IjH7w315aQWSsoHJcSTl8D%2B6T2r6G/ZU%2BD8P7P/AOzV4E%2BC0cSpJ4a8K2NjdFej3CQr5z8d2l3sfdq8LBUeathcM/ho0oza/vtKMb%2Bi55erufe8KUv9WfCOeJirVsZKnhIvqqNKlTr4i3%2BOpKhTk%2BsYuP2md/RRRX0p8YFFFFABRRRQAUUUUAFFFFABRRRQAUUUUAFFFFABRRRQAUUUUAFFFFABRRRQAUUUUAFFFFABRRRQAUUUUAFFFFABXjP7L/8AyW/9o7/ss1j/AOoV4Xr2avGf2X/%2BS3/tHf8AZZrH/wBQrwvQB7NRRRQAUUUUAFFFFABRRRQAUUUUAFFFFABRRRQAUUUUAFFFFABRRRQAUUUUAFeM%2BOP%2BUhfwv/7Iz48/9O3hCvZq%2Bbfjh8RYPB3/AAVQ/Z68JXMoA8WfCn4kafAh7zRXPhW8BHuEtpfzNROcacby8vxdvzZFSpClHmltdL72kvxaOd/4Jy/8Sj9pH9qnwh08j4y/2jt/6%2B7ON8/jsr60r5L/AGNv%2BJP/AMFMP2uPDB4SS88GajAP73naTJ5h/wC%2BgBX1pXmZLpgOXtOovuqT/wAz9D8Tfe4r9t/z8w%2BDn/4FgsM//bQooor1j8/CiiigAooooAKKKKACiiigAooooAKKKKACiiigAooooAKKKKACiiigAooooAKKKKACiiigAooooAKKKKACiiigArxnxx/ykL%2BF/wD2Rnx5/wCnbwhXs1eM%2BOP%2BUhfwv/7Iz48/9O3hCgD2aiiigArzH9o/48%2BLfhHe%2BDfA/wALvh1YeKvGHjzxBLpmgaVrHiF9KsY1gsbm9uLm5uo7a5eKNIrYqNkEjNLLEuFUs6enV5h%2B0h8BvF3xcvfBvjn4W/EWw8K%2BMPAfiCbU9A1XWPDz6rYyrPY3NlcW1zax3Nq8sbxXJcbJ42WWKJssoZHAOD8ef8FBdG8K/sX%2BGv2u7PwLaW0XiHULDT7yz8W%2BJF0vTfDl1Nc/ZbhtT1FYZ1tbe3nWSN7hYpFLBABh9w8w%2BJH/AAWKtPAHwL8D/GSf4UeFLVfGOk%2BJ7%2B2n8SfE7%2Bz9I1L%2Bxr1bVLfR78WEv9rXGoq32nT4vKgN1bAyZT7tenN%2Bwx4y0f4A%2BC/gx4J%2BOVlbXnw98Qabr3hzWtW8Itdx3upw%2Bc93LqVsl5Et1HPPcTTrHE1uYJPLZWYxqa5C%2B/4JlfEGy8JQWPgv9pDRbbWdR0TxnpfjG41v4cfb9Mu4vE2qDUr5rCxF/F9gdJgUj3y3KGPAmWdhvoA%2BsNB1R9c0Oy1qTS7qxa8tI52sr6MJNbl1DeXIoJCuucEZOCDzX56ftf6hdN/wSG%2BIngrTZSl54t/aB8WaJZkdS83xI1Ike%2BURx%2BNfdtn8Gfh43wcsvgP4r8O23iXw1a6Fb6Tcaf4nto76O/t4Y0jUXCSqUmJCAtuXBPOK/P74geGPDVh8APgL%2Bzp4J8PWOlaRe/tyeJIoNG0y0SC2t9MsfGXiB2hiijAWNFURgKoCqFAAxXlZ43/ZFaK%2B0uX/AMCcY/8Atx4nEbf9hYiK%2B1Hl/wDA3GH/ALce1/8ABRawtfiH8ZP2a/2MtKiBtNf%2BI6a/q9qvKtpeh25neJ/RHLqBnqU4r6/r5G%2BHH/F7/wDgsT8QPGp/fab8Gfhlp3hq17oupanIb2WRT/fEKmJsdOAea%2BuanLF7WtiMR/NPlX%2BGmlD/ANK5j9c42Sy7KsmyZaexwyqzX/TzFzlXd/NUlh16W9Aooor1z8%2BCiiigAooooAKKKKACiiigAooooAKKKKACiiigAooooAKKKKACiiigAooooAKKKKACiiigAooooAKKKKACiiigArxn9l//AJLf%2B0d/2Wax/wDUK8L17NXjP7L/APyW/wDaO/7LNY/%2BoV4XoA9mooooAKKKKACiiigAooooAKKKKACiiigAooooAKKKKACiiigAooooAKK8i/b6%2BIXjT4UfsUfFP4kfDzWZNM1nRfA2o3Vlq8MYZ9NKwNuvFDAqTAu6YbgVzHyCMivNfg34m8ZfBe7/AGjPh78MPE3iLxtpfw802x1LwbH4q8S3uu3UepT6J9ql003l3LLcTKWS2uAjyMV/tAhdqGNVAPqevz6/4Ky%2BMLv4Yf8ABR39jD4qQbkt9J1vxJa6ncA4EFnfXXh6ylc/7OJwD9a9H/4JffErX9UV/BvxLtfEk/izXvhj4Z8b3Guap8Wr7xPbapaah9rVJxBOEt9HuGlhmZ7SzjFrtMYikkEREfj/APwWQtvGPxd8R6n4eX4R%2BI9Al8E/A7xhrugeJtSudOe21NrLX/Bt1JNaLbXc06BI4XDfaIoD%2B8G0Nzjzc4U/7LrShvGPMv8At1qX/tv4nkZ%2Bqn9i15U/ijHmXrBxn%2BPI18z2r4J/8ST/AILEfG/S/u/258MfDWo4/veSXt8/rivrSviR/iFa%2BHv%2BCknwN/afgZV8P/tBfBp/D7SdY4L2IR6pbNnsZEkESjvz9a%2B26xyecXCtBdKk38p8s4v5qVz9W49lHGRyjMabvTr4HDWfd0ozoTXrGVOKfqn1QUUUV7B8AFFFFABRRRQAUUUUAFFFFABRRRQAUUUUAFFFFABRRRQAUUUUAFFFFABRRRQAUUUUAFFFFABRRRQAUUUUAFFFFABXjPjj/lIX8L/%2ByM%2BPP/Tt4Qr2avGfHH/KQv4X/wDZGfHn/p28IUAezUUUUAFFFFABRRRQAV%2BcXhB08Wftjfs6eAiwNvpXxm%2BOfiHUVJ4UReJdXjt2/wC/hbmv0dr8svhJ4q8j9sr4k%2BL/ADP9G%2BGXwr%2BL2q%2BZn/VXc3xB18/h%2B5TOa8fO5qGFgns6kPuTc3%2BEDzcxw1TMKuEwMPirYihTXrKrH/JH0t/wR6ik8d/A/wAbftXaghNz8YvinrfiG3dx8yWKXDWlvB/up5EmM9mr63r58/4JS%2BFf%2BEN/4J0fCHSPL2ed4PhvsY/5%2Bme5z%2BPnZ/GvoOtclpunlNBPdxTfrL3n%2BMmfpXiXioYvxBzSVP4I16lOC7QpP2NNfKFGK%2BT7hRRRXpnw4UUUUAFFFFABRRRQAUUUUAFFFFABRRRQAUUUUAFFFFABRRRQAUUUUAFFFFABRRRQAUUUUAFFFFABRRRQAUUUUAFeM/sv/wDJb/2jv%2ByzWP8A6hXhevZq8Z/Zf/5Lf%2B0d/wBlmsf/AFCvC9AHs1FFFABRRRQAUUUUAFFFFABRRRQAUUUUAFFFFABRRRQAUUUUAFFFFAEV7ZWepWcunajaRXFvcRNHPBNGHSRGGGVlPBBBIIPBBrlPh1%2Bzz8AfhBpun6N8Jfgd4P8AC9npNxcT6VaeHfDNrZRWcs6hZ5IlhjURtIqgOygFgADnFdhRQBy3wz%2BBvwU%2BCo1MfBv4P%2BFvCQ1q8%2B16yPDPh%2B2sPt9xz%2B%2Bm8hF82Tk/M2Tyea8l/aJ8DWHxP/a/8I/DXVcfZfEP7PnxH0y53DI8ufUPCcTZ/BzX0HXjPjj/AJSF/C//ALIz48/9O3hCplGM4uMtnp9%2BhM4RqQcJK6aafo1Z/gz4ktpfFvxB/wCCHHw%2B%2BM%2BiWrHxt%2Bz34ht9WtoCfmhk0TUZLeSJiOiiz%2BcjphRnpX6V%2BA/GmhfEfwNo3xD8LXXn6Zr2lW%2Bo6dMP%2BWkE8Syxt%2BKsDXyV%2BwH4Q0NfG/7WH7GHiu0EumW/xRvdQewb%2BHTNfsxKkQH93YsmP9410f8AwSA8Xa437KVx8APGt2ZfEXwc8X6n4K1cvwXW0nJt3AP8HkSRop6Hyzivl8llKhWpRl9unyv/AB0G4fe4fkfV8OzlnfgvRhJ3q5ZX5H39jiOam/lHE4ZPydXzPqiiiivqj5YKKKKACiiigAooooAKKKKACiiigAooooAKKKKACiiigAooooAKKKKACiiigAooooAKKKKACiiigAooooAKKKKACvGfHH/KQv4X/wDZGfHn/p28IV7NXjPjj/lIX8L/APsjPjz/ANO3hCgD2aiiigAoorj/AI0/Hn4Y/s/eHbLxL8TtVv4Y9U1RNN0my0bQL3Vb7ULto5JRBbWdjDNcXDiKGaUrHGxWOGR2wqMwAOworz7xD%2B1L8CPDXwY0b9oG68cm88K%2BJEsT4cvdE0u61GfVjebfs0dra2sUlxcSSBgRHHGz4DEgBWxi3v7cv7NNr8P9A%2BJFp4u1nUrPxPeX1pomm6F4J1fUdWnnspXhvY20y1tZL2JraWN4pxJCvkSDZJsYgEA9br8bfh3r1xY%2BHf8Agov8RbvKJoupeIvCtjKT95b/AMSa60qj/gU68f7VfsbZXcGoWcV/bb/LniWSPzI2RtpGRlWAKnB6EAjvX45XXh64k/YY/bIEQMd18Qv22ta8M2zD7zrF4oVxj1%2B9IPzr5vibmWCUl053/wCUppfjNHv8D4COZ%2BKHDlCfw/XaUpf4YXm38lFv5H6s/sweFf8AhBP2avh54I8rZ/Y/gbSbHZj7vlWcUeP/AB2u5plvbw2lulrbxhI40CRovRVAwBT6%2BgpU1SpRgtkkvuSX6Hl4/Fzx%2BPrYqe9Sc5v1nOU3%2BMmFFFFaHIFFFFABRRRQAUUUUAFFFFABRRRQAUUUUAFFFFABRRRQAUUUUAFFFFABRRRQAUUUUAFFFFABRRRQAUUUUAFFFFABXjP7L/8AyW/9o7/ss1j/AOoV4Xr2avGf2X/%2BS3/tHf8AZZrH/wBQrwvQB7NRRRQAUUUUAFFFFABRRRQAUUUUAFFFFABRRRQAUUUUAFFFFABRRRQAUUUUAFeM%2BOP%2BUhfwv/7Iz48/9O3hCvZq8Z8cf8pC/hf/ANkZ8ef%2BnbwhQB5H4s1Jv2Vv%2BCttj468Sw%2BT4T/aD8I22gRamDhIfEenE/Z4pew823YRx92dsAYUmoL3WT%2Bw7/wU41PxB4sgFt8PP2ko7C3tNXDYg03xVZxGJIJeyfaozkNn55D0wjEezft4/svQ/tc/s0658LNPvPsPiG3Kar4L1dX2Pp2sWxMlrMrjlMtmNmHISR8c15n8L7vwV/wVq/4J5z%2BCvjFYNpviNlk0XxdCsQW58PeJrIhWnRf%2BWbrKEmVc/cl2E4LCvl6%2BHrUsVKjS%2BLmdalfZvapB%2BTvfyU7/AGT0vD7O8Bw3xLispzRN4HHwlGbSvKMZyhKU4LrPD1o08RGP2oOpD7V19X0V81/8E6/2m/GvxH8N63%2BzN%2B0bOlv8YPhVcrpXi2CST5tXtgB9m1aLOC8c8ZQswH3jkhRIgr6Ur38JiqWNw8a1PZ9HumtGn2aaaa7r0OjiLIcdwznNXLsXZyg1aUdYThJKUKkH9qFSDjOEusZdGpJFFFFdJ4oUUUUAFFFFABRRRQAUUUUAFFFFABRRRQAUUUUAFFFFABRRRQAUUUUAFFFFABRRRQAUUUUAFFFFABRRRQAV4z44/wCUhfwv/wCyM%2BPP/Tt4Qr2avGfHH/KQv4X/APZGfHn/AKdvCFAHs1FFFABXiX7W3g34nHx38Kfjr8Mfhlf%2BNpPh94tvrrVvCmkX9lbXt1aXmkXtkZrZr6e3tzLHLPCSsk0YMTTbWLBUf22igD4p139mD47r%2Bwx8P/gXrXwV1fVr/wAMeM9L8QeMNJ8L%2BKrTT7%2BeGW6uL64ttD1H7ZbtbXFrPNFF57SWjPDFKsUg8wMPPD%2Bw5%2B054T8HeAfGdj8N/iPPPoWgfEbSdN8J%2BCfifaaXr2jtrWvW2p6Pc6jqX26FL9447XF6/wBouWnuHjkkW%2BIklb9GaKAOO8PeE/ilqnwJ0nwb46%2BJtzpvjNvDdpb674s8MW1qZE1FYUFxcW8d3bywYaUOVEkLKA33fT85JPhjf%2BEPgH8LvhNqfiW51u88af8ABQzxJfatqd8kK3GoQW3ivWklmmWCKKISuLeN2EcaRgkhUVcAfqZX5y6P/wAVR%2B1D%2BzT8OgN8Y/aD%2BN2uXK9k%2Bx%2BItYaJj9Xcge9ePnkIzwFnu5Qj/wCBTgn%2BCPvfDGEY8aUcW/8AmHpYqt6ezweJd/va%2Bdj9GqKKK9g%2BCCiiigAooooAKKKKACiiigAooooAKKKKACiiigAooooAKKKKACiiigAooooAKKKKACiiigAooooAKKKKACiiigAooooAK8Z/Zf8A%2BS3/ALR3/ZZrH/1CvC9ezV4z%2By//AMlv/aO/7LNY/wDqFeF6APZqKKKACiiigAooooAKKKKACiiigAooooAKKKKACiiigAooooAKKKKAPIv2%2BviF40%2BFH7FHxT%2BJHw81mTTNZ0XwNqN1ZavDGGfTSsDbrxQwKkwLumG4Fcx8gjIrz74AeMr74D%2BJP2gPBmhat46%2BIHhP4a2%2Bm6toVjc61e%2BJdaa5l0YXd1pVvPdSy3N1I4SCeOFnZg2oBU2o0aL9M3tlZ6lZy6dqNpFcW9xE0c8E0YdJEYYZWU8EEEgg8EGuU%2BHX7PPwB%2BEGm6fo3wl%2BB3g/wvZ6TcXE%2BlWnh3wza2UVnLOoWeSJYY1EbSKoDsoBYAA5xQB8w/8ABKz46/EH4rfFj446V8UvFvj/AFHWU1/RtVn07xb4R17SrHQmu9Kgkl06wi1W1t/Jt4ZCY0QIjyqguHUtMXb0e/8AGniTxD/wU28F%2BHdW%2BEfiHQrPSfg944Sw17VbnTntNaDat4Sy9sttdyzoE2jP2iKA/ONob5se8aZ4V8L6LrOpeItH8N2FpqGsyxyaxfW1mkc188caxRtM6gNKVjVUUsSQqgDgYryjxx/ykL%2BF/wD2Rnx5/wCnbwhQB7NXxd%2B0H4c%2BJ3/BO39onxH%2B3P8ACPwpP4k%2BFvjdreX40%2BD9NhzeaTPEpT%2B3bRQcONpJnTjPzMxwd8X2jTZYoriJoJ4ldHUq6OuQwPUEdxXHjcGsXTVpcs4u8ZLo9tuqa0kno07dmvPzHALH0o8snCcHzQkt4ytbbZpptSi9JRbWjs18x/H/APZm%2BHX7cPhfwx%2B2D%2ByR8Wbfw78RdOsBdeAviXoh3RXkPP8AoV6gH763Y7kaN1LRkuNp%2BeNp/wBlH/goPp3xA8WP%2BzP%2B1Zodv8OPjVpTCC%2B8MX82y11v%2B7d6ZMx23EUmCwjDF15Hzhd1cX4l/ZL/AGmv2GfGms/Fz/gnSNN17wXrF8dQ8TfAbWpvs9v5xH72bSLnpayNj/UsBHxwGAjjW7afGL/gnr/wVR8Mv8D/AI3eFo9I8b6dK0Vx4G8Zx/2X4k0O8AG42rErISDg7oSQRt3qMla8FVK1HF3jalXl8UZX9nVt1jLpLz%2BNLScZJKR9pw/x/lePy%2Blw5xnTklDShWhZ1KOt2qMptRr0JN8zwtScZwbcqMoSclU%2BvqK%2BNrPwR/wU2/YejNh8MdXs/wBor4dWZ/0XRfE2oiw8W6fbjpGl2w8m8CjPLjzG4VVUYFdl8JP%2BCsX7IHxA1weAPiP4pv8A4W%2BMoyEvfCHxQ09tHuYHPGPMl/cvk524k3Hj5RnFerTzfDKSp4lOlPtPRP8Awz%2BCXykn/dPaxnh1nc6EsXkso5hhlq54e85xX/T2hb6xRffmpTgntVejf0vRUVhf2OqWUWpaZexXNvPGHgngkDpIp5DKw4IPqKlr1dz4JpxdmrMKKKKBBRRRQAUUUUAFFFFABRRRQAUUUUAFFFFABRRRQAUUUUAFFFFABRRRQAUUUUAFFFFABRRRQAV4z44/5SF/C/8A7Iz48/8ATt4Qr2avGfHH/KQv4X/9kZ8ef%2BnbwhQB7NRRRQAUUUUAFFFFABX5v/svX9prX/BS7w7p19OFh8G6d8XNcckE%2BWbv4jazZA4HOTgAAcngV%2BkFfmh/wTix4t/4KH/HbxB9/wD4RHX9Z0Pd/c%2B1fEbWL3b%2BOM15Oa%2B88PT71Yf%2BS80v0R%2BgcA/uYZxi/wDn3gMR99V0KC/9OSXzP0a/4TDSf%2BfTVP8AwR3f/wAapf8AhMNJ/wCfTVf/AAR3f/xqvnbx9/wWR/4JvfC/x3rXw08c/tG/Ydb8O6tc6ZrFl/wiGsS/Z7q3laKWPfHaMj7XRhuUlTjIJHNZP/D8v/glp/0dD/5ZOt//ACFVSzzJYScZYmmmv78f8zOj4W%2BJmIoxq0skxcoySaaw9VpppNNNQs0000%2BqafU%2Bn/8AhMNJ/wCfTVf/AAR3f/xqj/hMNJ/59NV/8Ed3/wDGq%2BdvAP8AwWR/4JvfFDx3ovw08DftG/btb8RatbaZo9l/wiGsRfaLq4lWKKPfJaKibndRuYhRnJIHNd9%2B398YPiZ%2Bz7%2BxN8U/jj8G7TTZvE/hLwPqGq6OurzMlussELSb32xybtqhmCbcOyhCyBi69eFxuDxsXLD1IzS35Wnb1sfP55wzxJwxWhSzjBVcNKabiqtOdNySdm0ppNpPRtddD0v/AITDSf8An01X/wAEd3/8ao/4TDSf%2BfTVf/BHd/8AxqvnvU/23Pjb4V%2BIfjnwX8QvgV4E0LT/AIZfDy08TeOfE938VLo2Nu93FqjW9tbY0cSzqH0%2BMSyukRRLgtHHM6CKTmfht/wUq1f4q6p4Z0PVvhPq/hfW4vjRL4O8Q6Qst5bQyIfB%2Boa/DPt1jR7S9eF0hiTb9ntJBKgZZZIVK3HSeGfVX/CYaT/z6ar/AOCO7/8AjVH/AAmGk/8APpqv/gju/wD41Xzz%2ByV%2B3z8Sf2h9P0S48c/swf8ACP3fiz4TaL8QfCel%2BHvGsOqz3WnXzBHgnNxBZRW9xCXiYqHkR0fIcMpjrqf2q/FnxV1L4tfC/wDZ4%2BFvxX1DwI3ja61i61bxXo2m2N1exW9hZCRbaBb%2B3uLdWkmmhZmeJz5UEqrtZhIgB67/AMJhpP8Az6ar/wCCO7/%2BNUf8JhpP/Ppqv/gju/8A41XztZ/tBftI/FD/AIJi%2BFv2gfh3YSv491vQNBn1q48NaKt3NFBJe2sWr3%2Bn2cgcTypZm8ura3ZZd7pEhWXO1uB8EftK%2BN/G37PXxP8AFPj39q/4m%2BCNP%2BEnxMn0G08Wz/D/AEm28SeKoZtL0u9sYZdNvNLZBcPNqi20dvDaQTzskK7UkdlIB9j/APCYaT/z6ar/AOCO7/8AjVH/AAmGk/8APpqv/gju/wD41Xwt%2B0F%2B1d%2B3t8BvBWhfFT4xWXirRdQ0T4TeEdYvPDXgnwLBqWh6/wCJJJ5R4i0/Ub5redtPjhQQCDbcWuTMSj3bjyV3tT/a2/aX%2BFf7Wmk%2BFfinrnim0tfFHxL8T6CdB1vwPFbeEtJ0G00TVtU0vVbbV0tVkuriSPTIWni%2B1S%2BWLi6Bhh8mMkA%2Byv8AhMNJ/wCfTVP/AAR3f/xqr9hf2mp2iX1jOJIpBlWAI74IweQQcgg8givjv/gmN%2B0T%2B1B8U/GV74Y/aW1/xO0uofCzw74n0yy8aaVo1vNc3F1JdpeXemHSI0UaUStsIor7/iYRk/vkjDLu%2BtfB/wDyCZv%2Bwpff%2BlctAGrRRRQAUUUUAFFFFABRRRQAUUUUAFFFFABRRRQAUUUUAFFFFABRRRQAUUUUAFeM/sv/APJb/wBo7/ss1j/6hXhevZq8Z/Zf/wCS3/tHf9lmsf8A1CvC9AHs1FFFABRRRQAUUUUAFFFFABRRRQAUUUUAFFFFABRRRQAUUUUAFFFFABRRRQAV4z44/wCUhfwv/wCyM%2BPP/Tt4Qr2avGfHH/KQv4X/APZGfHn/AKdvCFAHs1FFFABXlf7SP7E37Lv7WunLa/Hj4P6XrF3FHts9aRDb6jaY5HlXURWVADzt3bSRyDXqlFZVqFHE03TqxUovo0mvxMcRhsPi6TpV4KcXumk19zufH8P7Hf8AwUL/AGa1Kfsg/ttQ%2BLdAtzmz8D/G/TmvhEg6Rrqdvi42gfKqbVVQBz3rm/in%2B0v8UdR0A%2BDP%2BCi//BInXfEOlw5WTWfA9naeLLHB6zrFxLar3yTvXGetfclFeXPJ1GDjQqyjF/ZdqkP/AAGpzWXkpHBhcvxmVV418pxlXDzi7x5ZOSi/7vM%2BaP8A27Uifln4Km/4JPSavKf2Sv8AgoT4/wD2d9bExM/hy4129sNPhmJyRcWupp5T887RLtH8vd/A%2Bs/8FTNHshffBL9q/wCA37QGjxLnztStjpt/NH22PpzvbhvdjivrLx/8H/hL8WLP%2Bzvil8LvDviW327fI1/RILxMemJUYV4R42/4I6/8E4vG94dVk/Zp0/R70NuhvPDGp3mmNC3qq20yIP8Avkj2rzP7Fx%2BH/gcq/wAEqlL/AMl/e0//ACVH3a8TPEqa5c1WEzOP/UVRTqf%2BDbKr8/bS/Iwh%2B33%2B2b8OB5f7QH/BLH4gRpF/rb74a67Z%2BI1lA/jSGIo6/wC6TmprL/gtJ%2Bw/p9ymnfFnUvGnw7vHbaLPxz4B1C1dW/ukxRyKD9Wx71EP%2BCTOl%2BFvn%2BDP7df7QnhAJ/qbC1%2BIhurJPTME0R3Y92qO7/Yo/wCCjmh2r2Xgz/gqjcanZFdp0vxp8JdMvllHo824Ofy5p83EtDZOXqqU/wAYypS/AP8AXPhfE/8AIx4WnTfWWDxzS%2BVPERqx%2BXN5aHq3gn/god%2Bwp8Qwg8KftcfD6WSTHl2114otraZvpHM6P%2BleqeHvFvhXxbafb/CnibT9TgIyJtPvUmTH1QkV8E%2BNf%2BCev7duuF5Nf%2BGf7HHj1znfdeKPhldWN0/qRJaJlSfY4ryvxD/wS6%2BOMN3/AGlf/wDBLj4P3t4hyt58P/jFrGjMD6os02xfxWj%2B2M7pfxMLf/t2ovy9ohf2p4U4j4o5phn/AHsNhsRFfOjXpSa/7dv5H6tUV%2BS3/DKn7bPgnjQf2R/2lPCCR/cfwD%2B1rp9zH%2BEUkDNj/ZJoGuf8FK/A/Gl337Y2n7On2vwxo/ijH/fTx7/60f6zVYfxMLNel/1poPZ%2BGdb%2BFn7p%2BVfL8fT%2B9wjXj9yZ%2BtNFfksP22P%2BCong7i/8dfHWcJ/0OP7INrap%2BL2d2xI98Uv/AA97/wCChXhM41O88BzKv3j4s%2BDviiybHv8AZQ4B/Sj/AFvy6P8AEp1I/wDbv/BQf2VwlU/gcS5e/wDHUxNH/wBPYGNvmfrRRX5NH/g4H%2BOvhrC%2BL9D%2BEF24OClnbeJ7Mk/9t7JgPxrT0z/g5D8SIypefsueFNTBPMlh8VVsx9dt1ZA/hVLjPh9uzqNesX%2Blxx4cwlb/AHfOctqemY4SP4VZUX%2BCP1Sor81dL/4OM/B7qG1/9lwW3977H8U9Jnx/31szWvB/wcgfsvWoz4i%2BCHjOHH3v7O1PSLv8sXi5rePFnDr/AOYhL1Ul/wC2lx4PzSq7Ua2Fqf4MdgJfljIn6J0V8B6L/wAHHX7CGsEK3gX4n2x7%2Bd4cs3x/36vHrp9N/wCC%2Bf7AF%2BAbm98b2YPU3Pg2c4/79lq2hxLw/P4cVD7/APNIuXA3FUXZYdP/AA1sLL/0jGTPtWivkO1/4Lpf8E0pADqPxt1SwHc3fgnVeP8Avi2atbT/APgtX/wTC1PH2b9qmxXP/Px4c1SL/wBDtRW8c9ySW2Jp/wDgcf8AMX%2BonGjV45dWf%2BGHN%2BMZSPqaivnSw/4K2f8ABODUcfZ/2t/C65/57tNF/wChxitmx/4KZf8ABPrUMeR%2B2L8Plz/z38SQRf8AobCto5rlctq8P/A4/wDyRMuB%2BNo75Xif/BFZ/lTZ7lRXkln%2B33%2BwtqGBaftmfCtiein4gacp/IzA1rWf7YP7JWo4/s/9qP4dT56eT43sG/lLWscdgpbVYv8A7ej/APJHHU4X4no/xMBXj60K6/Oij0WiuOtP2h/gBqGPsHxz8HT56eT4mtG/lJWpafFD4Z3%2BPsHxE0KfPTydXhb%2BTVqq9CW00/mv8zgqZZmdH%2BJQqR9YTX5wRu0VVtNc0W/x9h1i1mz08q4Vv5GrVaJp7HHKEoO0lb10CiiimSFFFFABXjPjj/lIX8L/APsjPjz/ANO3hCvZq8Z8cf8AKQv4X/8AZGfHn/p28IUAezUUUUAFFFeBftpSan4l%2BI/wV%2BCl9418QeH/AAz438eX1p4ju/DHiS70e8vfs%2BhaleW9it7ZyxXEAeW3Ex8qRGcWmwkozqwB77RXwvr/AMWPjV8Qv%2BCbXwXbS/iPqN74p8a%2BONI0Oyv38U3Whv4us0u7jYZ9XsVNxp4u7K1Fw11bozuxCIjeeFPh/wC0H%2B1v8ffCf/BOh/h%2BfFvxb0zU9DuPG1x4m%2BIHhPSdf11rO40jxDeWtloEeu2cErtGkiIjahdvDLcWun4mRJLyRYgD9WK/Of8A4JCeHj/wvn9sTx2Uz9t/abvNOVz/ANO3iLUGIH/gQK%2B%2B9W8bXUPw8Pj/AMKeBNd1%2BSTTku7Hw/aW0VlqN0HUMsXl6jJbLBLhuUneIqQQ21hivjb/AII%2B6Xfv8Ifjt461nwxe6Pe%2BJf2xPGd7NpepPA1zZAeIVj%2BzytbySxM8bpIrGOSRNwO12XDHgxdP2mKw7/llJ/8Akkl%2Bp9bw/jVg8gziN9atGlT%2B/FUpv/02j7mor5i8f/8ABTX/AIQLx3rfgX/h3z%2B09rX9i6vc2H9saB8J/tNhf%2BTK0fn20v2kebC%2B3ej4G5WU4GayP%2BHsP/WNT9rT/wAM3/8AdVZSzrLIycXU1X92f/ys/OZcQ5NCTjKrqtPhqdNP%2BfR9aVi/Ef4eeDPi58Ptc%2BFXxG0GLVfD/iXSLnS9c0ydmVLq0uImimiJQhgGRmGVIIzkEHmvnzwD/wAFNf8AhPfHei%2BBf%2BHfP7T2i/21q9tYf2xr/wAJ/s1hYedKsfn3Mv2k%2BVCm7e74O1VY4OK9m/aT8YfE74efALxf8Qfgz4ctNZ8T6DoFzqWj6Lewu6alJAhlNqAjoQ8qo0aNuwrurEMAVPXhsZhsZFyoyulvpJf%2BlRj%2Bp24PH4PMIuWHlzJaPSS8/tRj%2BFzGg/Y1/Z4Xwr4p8Han4Q1LV7Pxr4bt9B8VS%2BIvFep6ndalYQfafJjkubu5kn3p9rnxKHEo3L8/yJtzvA/7BX7LXw91Jdc8P%2BAtSm1IeLh4ol1bWvGOraleXGrjSJtGF3NcXl1LLOw0%2BeW3xIzLtKnG5EZfDfEf/BR/4m/Ejwtc%2BMf2XG0PVbDxH47m0j4USxeEl1RvEGnWGkLdareyNc63pVtDHFd%2BfAHa4XaLNwElaQeXxPg39ur4jfFzxHonx4svtNrp3jz4Zfs76rH4UbX737DpU/iLxdrttfyQfZp4tzmLyUZjlJ1tYVmSWJfKPSdh9h%2BGP2TvgR4JsdEsPB3hO90pfDnga08HaJNp3iPUIZrTRbV43gtVlScOdpijzIWMjAEM7BmB0fjf%2Bz18Kf2idE0/Q/ilo%2BozDSNRN9pF/oniK%2B0i%2BsbgwywM8N5YTQ3EW6GaaJwkgDpIysCpIr5N%2BCf7VP7UHxu/ak%2BEHjDU/FXhH%2BxPHfwt8f634c%2BHulXV7p7Wslnf6NBbQatKZrhLqWPzSjXCW0RtpHuEWKTOT7d%2B2/q3iSfTPhR8N5fFWq%2BHdI8d/Few0PxnqXhvXbjT7qGzOn390kEN7btFPb%2Bfe2tna%2BZG0cjLcFVKlxQB6G37PXwti8CJ8MtFsNX0XQIPDVpoNjpnhrxTqOlx6fYWv%2BoS1%2ByTxm0dBhfOhKSlVRS5VFA4rxL/AME9f2VfFfg7wz4G1Pwn4khtPCHiS48Q6HeaZ8R9estQXVp0lSa/nvre9S6u7llmlBmnlkf942DzXDfBjU/2gvij/wAE3/HOifCn4mXEvje0vfH3hv4d%2BMNc1IyTSx2Gt6rp2kXU11IJDI/kW9sTdOJDIR5zB9xzwn7PVp8VPijL8b/gBN4L%2BIOm6b4X1LQJvB/h/wAcftBapBqsWqT6e013YXOv6Vd311DHtSC6ECTXG1LpWKIsgijAPpTxF%2ByP8E/GGqeGdU8YWvifVx4Rhsk0mx1X4g61c2UzWcomtp7y1kuzBqNxHKFlW4u0ml8xEffuRSLMP7LPwU/4WrefGjVNA1TVtdvLe5gUeIPFOo6lY2UdwipcLaWN1cSWtj5qKFc28UZdSwbIZgeQ/wCCcPjDxZ43/Y88M6n478WXeta1Zalrek6re3t612yXFjrF7ZPbrdOS99HC1uYEvH%2Be6jiSdgGlIHuNAHmvwF/ZE%2BAX7NF3dah8IPCmoWlxdaZa6YLjV/FGo6tJbafbGQ29jbNf3ExtbWMyyFLeEpEpbhOldt4P/wCQTN/2Fb7/ANK5a1Ky/B//ACCZv%2Bwrff8ApXLQBqUUUUAFFFFABRRRQAUUUUAFFFFABRRRQAUUUUAFFFFABRRRQAUUUUAFFFFABXjP7L//ACW/9o7/ALLNY/8AqFeF69mrxn9l/wD5Lf8AtHf9lmsf/UK8L0AezUUUUAFFFFABRRRQAUUUUAFFFFABRRRQAUUUUAFFFFABRRRQAUUUUAFFFFABXjPjj/lIX8L/APsjPjz/ANO3hCvZq%2BcP2j9X%2BNej/t4fCef4HfD/AMLeItSb4R%2BO1u7TxX4wudFgjg/tTwkS6S2%2Bn3rO%2B7aNhjUYJO/ICkA%2Bj6K8Z/4Tj/goX/0a/wDBn/w/Grf/ADL0f8Jx/wAFC/8Ao1/4M/8Ah%2BNW/wDmXoA9morxn/hOP%2BChf/Rr/wAGf/D8at/8y9H/AAnH/BQv/o1/4M/%2BH41b/wCZegD2aivnHSf2jv27dY%2BM%2Bv8AwOt/2UPhIuqeHfC%2Bka7eXL/HXVPIkg1G51K3hRCPDG4uraXOWBUAB48FiWC9R/wnH/BQv/o1/wCDP/h%2BNW/%2BZegD2aivGf8AhOP%2BChf/AEa/8Gf/AA/Grf8AzL0f8Jx/wUL/AOjX/gz/AOH41b/5l6APZqK8Z/4Tj/goX/0a/wDBn/w/Grf/ADL1y/gH9o79u34ieK/G/hDR/wBlD4SQ3HgPxRFoWqyXPx11QJPPJpWn6mHi2%2BGCSnk6jCpLBTvRxjADMAfR1FeM/wDCcf8ABQv/AKNf%2BDP/AIfjVv8A5l6P%2BE4/4KF/9Gv/AAZ/8Pxq3/zL0AezUV4z/wAJx/wUL/6Nf%2BDP/h%2BNW/8AmXo/4Tj/AIKF/wDRr/wZ/wDD8at/8y9AHs1FfOPwi/aO/bt%2BMvhS78X%2BHP2UPhJbW9n4o1vQpI73466ormfS9VutMncbfDDDY01pIyHOSjKSFOVHUf8ACcf8FC/%2BjX/gz/4fjVv/AJl6APZWVXUo6ggjkEcGsrUPAfgfV8/2r4M0m6z1%2B0adE%2BfzU15f/wAJx/wUL/6Nf%2BDP/h%2BNW/8AmXo/4Tj/AIKF/wDRr/wZ/wDD8at/8y9JxjLdXJlGMlaSudrf/s8fs/6pn%2B0/gZ4Ouc9fP8M2j5/OOse9/Y1/ZA1LP9o/sp/Da4z18/wNp75/OGsL/hOP%2BChf/Rr/AMGf/D8at/8AMvXL/BH9o79u348fBjwh8cfCv7KHwktdL8Z%2BF9P13TbbUPjrqizwwXdtHcRpIE8MMocLIAwVmGQcEjmsZYXCy%2BKnF/8Absf/AJEwlgsFP4qUX6xi/wD206%2B8/wCCfX7B99n7R%2Bxh8K8nqY/AOnofzWEVl3f/AATL/wCCfN7/AK79jn4fLn/nj4bhj/8AQVFXf%2BE4/wCChf8A0a/8Gf8Aw/Grf/MvR/wnH/BQv/o1/wCDP/h%2BNW/%2BZesnl2XS3ow/8Aj/APImEspyqW%2BHp/8AgEP/AJAwLr/glB/wTlvM%2Bd%2ByH4QGf%2BeVo8f/AKC4rOuf%2BCPH/BNO7/1v7Jmgj/rleXif%2BgzCuw/4Tj/goX/0a/8ABn/w/Grf/MvXL/G79o79u34D/Bjxf8cfFX7KHwkutL8GeF9Q13UrbT/jrqjTzQWltJcSJGH8MKpcrGQoZlGSMkDmsnlGUvfDw/8AAI/5GTyLI5b4Wn/4Lh/8iZFz/wAEVP8AgmFdf639lWwGf%2BefiLVE/wDQboVRn/4Ia/8ABLac5/4ZgCH1j8Z60P8A28xXpv8AwnH/AAUL/wCjX/gz/wCH41b/AOZej/hOP%2BChf/Rr/wAGf/D8at/8y9Q8jyV74an/AOAR/wAjJ8OcPPfB0v8AwXH/ACPJp/8AghB/wS/m%2B5%2Bz9eRf7njPVj/6Fcmqc/8AwQN/4JmS/wCr%2BD2rxf7njC//AKymvZf%2BE4/4KF/9Gv8AwZ/8Pxq3/wAy9H/Ccf8ABQv/AKNf%2BDP/AIfjVv8A5l6h8P5E/wDmFp/%2BAo1jkeTU/gw8V6K35NHh83/Bv5/wTXl%2B58PPEUf%2B54tuv6saqzf8G9n/AATjk/1fhjxbH/ueKpP6qa9S%2BLv7R37dvwa8KWni/wAR/sofCS5t7zxRomhRx2Xx11RnE%2Bqara6ZA53eGFGxZruNnOchFYgMcKeo/wCE4/4KF/8ARr/wZ/8AD8at/wDMvUPhzIH/AMwsP/AUdEcuwcPhi16SqL8qqPnyX/g3e/4J2yfcsfGyf7nij/GI1D/xDufsDR/8eWu/Ea29PI8UxDH525r6J/4Tj/goX/0a/wDBn/w/Grf/ADL0f8Jx/wAFC/8Ao1/4M/8Ah%2BNW/wDmXqf9WuH/APoFh93/AATZYeMdpzX/AHFrf/Lz55T/AIN8P2Nrc5sfi58X7b08jxhbjH/kpViH/ggh%2BzPaf8eP7S3x2t/TyPHduuP/ACTr37/hOP8AgoX/ANGv/Bn/AMPxq3/zL1y/j79o79u34d%2BK/BHhDWP2UPhJNcePPFEuhaVJbfHXVCkE8elahqZeXd4YBCeTp0ygqGO90GMEsrXDeQrbDx/H/wCSJlhact5T/wDBtb/5eebW/wDwQ5%2BDVn/x4/tmftGQY6eT8R4F/wDbOr9t/wAEZ/BtiMWH7f37UEHp5XxUjX%2BVpXsX/Ccf8FC/%2BjX/AIM/%2BH41b/5l6P8AhOP%2BChf/AEa/8Gf/AA/Grf8AzL1a4fyaO1FffP8A%2BTOeeU4Gp8Sk/wDuJW/%2BXnk6f8Ejmthiw/4KU/tVQ%2Bm34tf4W4qt8CP2S9T/AGXP%2BChvg86h%2B1D8U/iSuu/Bnxj5Y%2BJfik6mdN8nVvC2fs5Kr5fmeaN/97yo/wC7XsP/AAnH/BQv/o1/4M/%2BH41b/wCZeqHgfwP%2B1Z4x/as8OfG743fDj4e%2BGdG8M/D3xDocMPhX4h32tXV3dalfaJcIzJcaRYpFGiaXKCwd2LSoAuMkb0Mpy/DVVUpQtJf3pv8ABza/AMPlOX4WqqtKFpLrzTf/AKVUkvwZ7rRRRXonohXP/E74TfCv42eEZvh/8Zfhp4f8XaDcSJJcaJ4n0aC/tJXRtyM0M6MjFWAIJHBGRXQUUAchr/7PnwE8WeFr/wADeKfgh4Q1LRNVt7WDVNH1Dw1azWt5FagC2jlieMpIsQVRGrAhAo24xV21%2BEHwlsvhovwYsvhd4dh8HJYfYV8JxaJAumC1/wCeAtQnlCP/AGNu32roqKACvnL9iHwzp3hb9njxZe2PmEXv7Q3j/U752GcH/hPNU3twOipGPwWvo2vkr9krxZ%2B2dp/w98UWfwx%2BAfww1fQk%2BNPxF/s/Ude%2BLuo6bdzL/wAJnrJYyW0WgXKRENuAAmfIAOQTtCaTafYuNSpGEoJ6Stfzs7r7nqfUH/Cc%2BCf%2Bhw0v/wAGEf8A8VS/8Jz4J/6HDSv/AAYR/wDxVeW/8Jx/wUL/AOjX/gz/AOH41b/5l6P%2BE4/4KF/9Gv8AwZ/8Pxq3/wAy9Mg9S/4TnwT/ANDhpX/gwj/%2BKo/4TnwT/wBDhpX/AIMI/wD4qvLf%2BE4/4KF/9Gv/AAZ/8Pxq3/zL0f8ACcf8FC/%2BjX/gz/4fjVv/AJl6ANS%2B%2BBn7FGqfDjSfg7qfwd%2BFtx4R0C9%2B2aF4Vn8Paa%2Bm6bc7pG86C2KeVDJullO9FBzI5z8xzoaf8OP2UdJtbWy0rwH8PbaGytNJtLKG30uxRbeDS55LjTIkAUBEtJ5ZZbdRgQSSO8YVmJPmfwR/aO/bt%2BPHwY8IfHHwr%2Byh8JLXS/GfhfT9d0221D466os8MF3bR3EaSBPDDKHCyAMFZhkHBI5rqP8AhOP%2BChf/AEa/8Gf/AA/Grf8AzL0Aatj8D/2KtL8U63450z4QfC631vxLBdQ%2BI9Yg8P6al1qsd1j7SlzKE3zrLtXzA5IfA3ZxXQeN9K%2BAHxM8EXPwy%2BJGm%2BDvEHhu8hSK78Pa5DaXdjPGjKyI8EoaNlVlUgFcAqCOgriv%2BE4/4KF/9Gv/AAZ/8Pxq3/zL0f8ACcf8FC/%2BjX/gz/4fjVv/AJl6AOrj8HfszRaFZ%2BF4vCvgRdM07w7caBp%2BnLY2QgtdJuBCJ9PjjxtS1kFvAHgAEbiCPKnYuMKT9nz9hmb4WxfA2b4IfCd/BMF/9ug8Ht4a0w6VHdZJ89bTy/JEmWb5wu75jzzXE/G79o79u34D/Bjxf8cfFX7KHwkutL8GeF9Q13UrbT/jrqjTzQWltJcSJGH8MKpcrGQoZlGSMkDmuo/4Tj/goX/0a/8ABn/w/Grf/MvQB6H4Y1D4R%2BCPDtl4Q8F33hzSNJ022S207S9Llt7e2tYUGFjjjjwqIAAAqgADpV//AITnwT/0OGlf%2BDCP/wCKry3/AITj/goX/wBGv/Bn/wAPxq3/AMy9H/Ccf8FC/wDo1/4M/wDh%2BNW/%2BZegD1H/AITnwT/0OGl/%2BDCP/wCKo8GHfoZnUHZNfXcsRIxuR7mRlb6FSCPY15d/wnH/AAUL/wCjX/gz/wCH41b/AOZeuX%2BLv7R37dvwa8KWni/xH%2Byh8JLm3vPFGiaFHHZfHXVGcT6pqtrpkDnd4YUbFmu42c5yEViAxwpAPo6ivGf%2BE4/4KF/9Gv8AwZ/8Pxq3/wAy9H/Ccf8ABQv/AKNf%2BDP/AIfjVv8A5l6APZqK8Z/4Tj/goX/0a/8ABn/w/Grf/MvR/wAJx/wUL/6Nf%2BDP/h%2BNW/8AmXoA9mor5x8fftHft2/DvxX4I8Iax%2Byh8JJrjx54ol0LSpLb466oUgnj0rUNTLy7vDAITydOmUFQx3ugxgll6j/hOP8AgoX/ANGv/Bn/AMPxq3/zL0AezUV4z/wnH/BQv/o1/wCDP/h%2BNW/%2BZej/AITj/goX/wBGv/Bn/wAPxq3/AMy9AHs1FeM/8Jx/wUL/AOjX/gz/AOH41b/5l65fVv2jv27dH%2BM%2BgfA64/ZQ%2BEjap4i8L6vrtncp8ddU8iODTrnTbeZHJ8Mbg7NqkBUBSCEkyVIUMAfR1FeM/wDCcf8ABQv/AKNf%2BDP/AIfjVv8A5l6P%2BE4/4KF/9Gv/AAZ/8Pxq3/zL0AezUV4z/wAJx/wUL/6Nf%2BDP/h%2BNW/8AmXo/4Tj/AIKF/wDRr/wZ/wDD8at/8y9AHs1FfOOk/tHft26x8Z9f%2BB1v%2Byh8JF1Tw74X0jXby5f466p5EkGo3OpW8KIR4Y3F1bS5ywKgAPHgsSwXqP8AhOP%2BChf/AEa/8Gf/AA/Grf8AzL0AezUV4z/wnH/BQv8A6Nf%2BDP8A4fjVv/mXo/4Tj/goX/0a/wDBn/w/Grf/ADL0AezUV4z/AMJx/wAFC/8Ao1/4M/8Ah%2BNW/wDmXrl/AP7R37dvxE8V%2BN/CGj/sofCSG48B%2BKItC1WS5%2BOuqBJ55NK0/Uw8W3wwSU8nUYVJYKd6OMYAZgD6Oorxn/hOP%2BChf/Rr/wAGf/D8at/8y9H/AAnH/BQv/o1/4M/%2BH41b/wCZegD2avGf2X/%2BS3/tHf8AZZrH/wBQrwvR/wAJx/wUL/6Nf%2BDP/h%2BNW/8AmXq3%2Byt8OfjT4P1j4oeO/jpoHhfSdU8ffEKLXLPSvCfiW51a3tbWLQdH0xVe4uLKzZpGk06Vyoi2hZEG5jnAB63RRRQAUUUUAFFFFABRRRQAUUUUAFFFFABRRRQAUUUUAFFFFABRRRQAUUUUAFfK%2BrftafFyH9pGbXF8O%2BD2%2BHmkfGC2%2BFzRSaRcHXzcXmn2tw2oR3n2jykg%2B3S29u1p9nJZIfP88ELDX1RXjN5%2BxD8OLz4/N8dX8c%2BKltpfFcPiq58CpdWv9iT6/Fpy6dHqjKbf7T5q26RjyhcC3MkSTGEyjzKAPZqKKKACiiigD5j8OftLfEyH/goB4o%2BD/wARtY8PeE/Da6/aaL4Mi1H4Rayl14xg/sCDUcQeI2u105pY7u51AC0ELy%2BXaTAKCzSL9OV5X4s/Zag8f/GTSPin49%2BN/jXV9K8Pa7HrWgeALg6ZFo1jqEdu8Ec4aGyS9l2eZJIqTXUkYkfds%2BRAvqlABRRRQB4v/wAFBfi78cP2fv2R/Gnx6%2BAV74Uj1jwToV3rl1B4w0W5vra7tLW2lme3RLa6tmSV2RFEhcqgLEo/Arz/AMeftafFzwX8ePFup%2BFPDvhCL4eeEPjH4R%2BH3jKzm0i4Ot6rquuwaKkeoQ3aXCwxxwf25pMZikt5XkSGfEse1BXsP7WP7ONl%2B1p8CNe/Z91r4q%2BKfCOk%2BJ7KWx1y/wDCC6d9rubKWJ4prbdf2l1GiOr8siLICo2uvOeLg/YB8HT/ABFs/iL4q%2BOPj7XWOs6TrnibRtQl0qKx8T65piRpY6tex21hEy3EQgtMLbNBAxsbYvExjyQD3uiiigArxf8AbJ%2BLvxw%2BCVr4B8Y/Cy98Kf2NqHxM8OeHvF9j4g0W5ubq5tdV1mx00GzlhuoUtpI1uZZN8iTqSiLs5Jr2ivKv2rv2W3/aq8N6F4Xn%2BPvjfwNb6F4ksNdRvBcOjs93e2N5BeWbSnUtPvBtiuLeNwsYQNysm9TtAB5x%2Bzz%2B0r8TNb/ar8W/BH4oav4e8J6dD4p1u38E%2BEpPhFrOmXOvW0LpKb%2B31u4u/sGoOxklllitoC4yXYrhifpyvJdJ/ZRD/GTRfjL8R/2gPHfjWbwvd3l34T0LxCNJhsNHurm3ktZLiJbDT7aWV/s808K%2BfJKqLO%2B0AkEetUAFFFFAHg/7Wvxm/aC%2BA3iTwv4u8GeIPBF74e1rxdoXh228C33hy8k1zXLm9vlhuWtL2O9WKEwWrSXWxrSYeXaTM7xoC8fH/sS/tafFz4qa98ONM8f%2BHfCFl4X%2BL/wcuPiD8MtP8LaRcWk2gaVbT6Wg0%2B9aS4ljuZPs%2Btacwlhjt0Vo508ogK1ehfEn9jlfiJ%2B07on7U1v%2B0d8QNC1Xw/oY0rTNA0yHRLjS4IHm825aNL7TLiaGW5AjjmlilR2jhjRWQDk/Z5/Yh%2BHH7OPi6LxV4b8ceKtaj0nw9L4e8FaR4gurV7Xwloslwlw%2BnWAgt4pPJLw2wzcPPKEtIEEgVAKAPZqKKKACvl/9rn48ftL/AAW%2BImn%2BFNKh8AeNdH8cw61baL8OYvB99JrCWtpod1dyX9xOL14rq2F1Fb20kItYgft8KCYyMiSfUFeHTfsTXEf7R/iv9prRP2q/iXp2r%2BLdNh0650uGDw/PaafZwwNHDbWbXOky3NvEsrvdbFm2vO5dw4O2gBn7CH7Qnjf4%2BfDy8uviv4%2B0a%2B8XacLNtf8ADdl8LtX8I3mgPPbLKILmx1e6nuHBbf5dwBHHIqHaG2k17pXm/wADv2btO%2BDPifxJ8Q9Y%2BKXinxx4q8VxWNvrHifxc1gty9pZib7LapFp9ra20cUbXNy42whma4kLM2Rj0igAooooA%2BKP2mP24fj98Dvj7f8AwH1HTfCHi0aw9knhL%2B0fhnq%2Bi22j6je%2BIdD0zSGe8u7yW38QJHLrEMtw2niJrdrT5/JaVFX3/wDZV%2BL/AMSPiMPH/wAPvjEdEn8VfDTx43hrWdV8NadNZ2Gp%2BZpenatb3ENvNPPJb5tdUt0eNppcSRyYYgjHLfEv/gnn4N%2BNuvXHiD42/Hz4i%2BKnto7j/hDob%2B50q2TwjcSXVvdR3dgbOwhZ7iGW0tjFJdtclPK7733%2Bj/AP4C6H8A/D2rabZeL9c8Sat4i16bWvE/ijxK9sb/V76SOKHzphawQQLsggt4ESKKNFjgjULwSQDuqKKKACvib9qL9sf9rD4O/GbxR8K/B/hrw5431XS/DF/wCIfCUafBPX4ZNIdLvT7eFYXN66%2BJpPsmpzrMNL8p4WiKyCPzhGPtmvEda/Yv1HxF4/b4n65%2B1p8ULnW7C3vYfBt26aCF8KrdzQvObSMaUEnZo4UgDXouisRcAhnZyAdL%2Byp8W5vjL8KR4m1H4naN4p1G11W5sdWutH8EX/AIbNncRN81rPpmo3E91aTopXckzBiGVtqqwr0muE%2BAfwD0D4A6FrNjp/i3XPEeq%2BJvEEuueJ/E3iSW3a91W/khhg82QW0MMEYWC3t4VSKKNFSFAFzknu6ACiiigAooooAKKKKACiiigCj4o8Q2HhLw1qPivVQ5tdMsZru5ES5by40LtgdzhTXzn%2BxN%2B0n8a/H/inR/Bnxs8PeDLMeOvhbZfEbwzD4M0q4tBpkd5cE3en3ZmuJRdzRvc2z/bEEAnaWYmCPaC/0td2lrf2stje26TQzRtHNFKoZXUjBUg8EEcYryH9mb9ivwF%2BzBqr6voHxB8W%2BJZbbwxY%2BGfDo8WXtrMNA0KzeR7fTbU29vCWjUyfNLOZriQRxeZM/lrgA9iooooAK4X9qDx58RfhZ%2BzR8RPid8H/AAouveLfDngXV9U8LaG1jNdDUdRt7OWW2tjDAyyzCSVETy42DtuwpBINd1Wd4t0S/wDEvhjUPD%2Bl%2BK9R0K5vbSSG31rSFga6sXZSBNELiKWIup5AkjdMj5lYZBAPLv2Kfi1P8UfhnfWWrfELQNZ1Pw7qi6deaZonww1Twc%2BhoLaCSKzuNK1S5nuYXCOJFdvLR4pYtiYG9/Yq88%2BA/wCztpPwOvPEviO5%2BIniTxj4k8X6jDeeIvFPit7MXd0YbdLeCIR2NtbW0UUcaAKscKZLOzFmZmPodABRRRQB8uftUftY/FD9nD4veOLL4laN4S8RfC%2Bw/Z38X%2BPbbQrfRLhNVdtEGlrPbXFzJcvbzRTrfTgILZCoRMu%2BWFdv%2BzP8X/j5qnxc8Zfs6/tLP4SvPFHhjwx4e8Sx6r4K0m5sbKSy1Z9St1tjDc3Ny5lhuNIuwZRIFkR4m8uM7lqD4x/sK%2BHfjp8dW%2BMvjz47eOZdNm8Fan4Rvvh7DBov9iXejaktt9vtJC%2BmtekTtaQOzi6DqUIRkRmQ9J%2Bzv%2By7of7Pt9rXiOf4oeLfG/iHX7Wwsr/xP42ubSS9NhYpItnZj7JbW8flRGe4cEoZHe5ld3dmzQB6fRRRQAV8ifGv9pf9rbwXrn7QHgW38K%2BDPFl74C8P%2BFPEnw2sdJ%2BH%2Bp386x6jqupQhLu1ivHl1GeBdNjnU2wtyXJCr8qtX13Xhcv7FHiGL46eNvj/AKF%2B2h8VtK1bxvpFjplzY2Vn4Ya0022sri5ns0thLoryfujeXSgzPKXWciTzCqFQDq/2VPi3N8ZfhSPE2o/E7RvFOo2uq3Njq11o/gi/8NmzuIm%2Ba1n0zUbie6tJ0UruSZgxDK21VYV6TXCfAP4B6B8AdC1mx0/xbrniPVfE3iCXXPE/ibxJLbte6rfyQwwebILaGGCMLBb28KpFFGipCgC5yT3dABRRRQB8bftLftd/tLfs8fGaD4baynwz8a32twQTeEYdO8LXtpL4LvNS8Q6Z4e0ibU5XvphdRTtq84LRLZyOLG6WMMvmGL3H9lX4v/Ej4jDx/wDD74xHRJ/FXw08eN4a1nVfDWnTWdhqfmaXp2rW9xDbzTzyW%2BbXVLdHjaaXEkcmGIIxwtt/wTV8JNdfEN/EP7S/xO1m3%2BJOvHXNYt9SOheZZ6lFcQz6fc211FpaXSmwe3txaRvNJFEsKBkfnPrHwD%2BAuh/APw9q2m2Xi/XPEmreItem1rxP4o8SvbG/1e%2Bkjih86YWsEEC7IILeBEiijRY4I1C8EkA7qiiigBlz9p%2BzSfY9nnbD5Xm527scZxzjNfEHxW/a5/bT%2BGnxE1z4bW9t4D8Z694YvfDVvq3jrwR8Fdf1aPw5b6s1497YS6VZ6lPd3M0cNlY3RMU6fu7qFpYEBiaT7eu4ZLi1lt4bqSB5I2VZ4gpeMkYDLuBXI6jII9Qa%2Be/gx%2BwF4g%2BAnw2uPhp8O/26vjFFHdas%2BpzazeWXhOfUJbuV5ZLmeaZ9CP2mSd5d0kk4kfMabCgGCAes/AT4h2XxW%2BDvh/4hWHxA0bxUmp6eJH1/w/pM1haXcgJWQpazzTS2xV1ZGhkkd42VlY7lIHX1yXwL%2BC/hL9n34X6d8KfBVzf3FlYS3VxNfarcia6vru6uZbq6upnCqGlmuJ5pX2qq7pDtVVwo62gAqj4nh8SXPhvULfwbqdjZavJZSrpd5qdg91bQXBQiOSWGOWJpo1bBZFkjLAEB1J3C9Wb4x0G/8UeFr/w7pfi3UtBuby1eKDWtHEBurFyOJohcRSxF1PIEkbocfMrDIoA%2BJvhT%2B3B%2B1l8bvi5f/AD4V2Pw/h8co%2Btzjxt4r%2BFutaJHqGk6RaaLJ9mm0K7v01Gxla88RxRxyTzFDCstxHE6yqD9bfs2fGbT/wBo79nTwD%2B0NpWkSafa%2BPPBWleIrawmk3PbR3tnFcrEzYGSolCk4GcV5FqH/BNTwdqOt3XxIf8AaW%2BKUPxE1Ce5XUvifa3mkRaxdWM9pBay6d5a6aLKK2MdrbMBFbRyLLCsokEmXPvfw%2B8B%2BE/hZ4C0T4Y%2BA9Hj07Q/DmkW2l6Lp8RJS2tLeJYoYlzk4VEVRn0oA16KKKAOX%2BNOo%2BONG%2BFuta38OfENjperWFmbqG%2B1Dwfe%2BIESOMh5QNOsZ4Lm8kaJXVIoZA5dlwrn5G%2BLfhr/AMFEfj9rniHw9rvjC48I%2BBPBupy6j/wlHjy9%2BBniK4tdRvbXXZNJi%2B1Ml9GvhmWW1toiYtUZ5LdiI3%2B5sr7b%2BJngzXfHvhKbw54b%2BKWv%2BDbySWN4tf8ADMVi93BtYEqq39tcwMGAKkPE3BOMHBHiuof8E5vCmr%2BAb34Uap%2B0h8Tbjwv4jubu5%2BIWhvcaPs8ZT3dy893JfSjTRPD5wcQtHZSWsYhRUVFAJIB9E0UUUAFFFFABRRRQAUUUUAFFFFABRRRQAUUUUAFFFFABRRRQAUUUUAFFFFABRRRQAUUUUAFFFFABRRRQAUUUUAFFFFABRRRQAUUUUAFFFFABRRRQAUUUUAFFFFABRRRQAUUUUAFFFFABRRRQAUUUUAFFFFABRRRQAUUUUAFFFFABRRRQAUUUUAFFFFABRRRQAUUUUAFFFFABRRRQAUUUUAFFFFABRRRQAUUUUAFFFFABRRRQAUUUUAFFFFABRRRQAUUUUAFFFFABRRRQAUUUUAFFFFABRRRQAUUUUAFFFFABRRRQAUUUUAFFFFABRRRQAUUUUAf/2Q%3D%3D\">"
      ]
     },
     "metadata": {},
     "output_type": "display_data"
    }
   ],
   "source": [
    "\n",
    "s.run(tf.global_variables_initializer())\n",
    "\n",
    "BATCH_SIZE = 512\n",
    "EPOCHS = 40\n",
    "\n",
    "# for logging the progress right here in Jupyter (for those who don't have TensorBoard)\n",
    "simpleTrainingCurves = matplotlib_utils.SimpleTrainingCurves(\"cross-entropy\", \"accuracy\")\n",
    "\n",
    "for epoch in range(EPOCHS):  # we finish an epoch when we've looked at all training samples\n",
    "    \n",
    "    batch_losses = []\n",
    "    for batch_start in range(0, X_train_flat.shape[0], BATCH_SIZE):  # data is already shuffled\n",
    "        _, batch_loss = s.run([step, loss], {input_X: X_train_flat[batch_start:batch_start+BATCH_SIZE], \n",
    "                                             input_y: y_train_oh[batch_start:batch_start+BATCH_SIZE]})\n",
    "        # collect batch losses, this is almost free as we need a forward pass for backprop anyway\n",
    "        batch_losses.append(batch_loss)\n",
    "\n",
    "    train_loss = np.mean(batch_losses)\n",
    "    val_loss = s.run(loss, {input_X: X_val_flat, input_y: y_val_oh})  # this part is usually small\n",
    "    train_accuracy = accuracy_score(y_train, s.run(classes, {input_X: X_train_flat}))  # this is slow and usually skipped\n",
    "    valid_accuracy = accuracy_score(y_val, s.run(classes, {input_X: X_val_flat}))  \n",
    "    simpleTrainingCurves.add(train_loss, val_loss, train_accuracy, valid_accuracy)"
   ]
  },
  {
   "cell_type": "markdown",
   "metadata": {},
   "source": [
    "# Submit a linear model"
   ]
  },
  {
   "cell_type": "code",
   "execution_count": 17,
   "metadata": {},
   "outputs": [],
   "source": [
    "## GRADED PART, DO NOT CHANGE!\n",
    "# Testing shapes \n",
    "grader.set_answer(\"9XaAS\", grading_utils.get_tensors_shapes_string([W, b, input_X, input_y, logits, probas, classes]))\n",
    "# Validation loss\n",
    "grader.set_answer(\"vmogZ\", s.run(loss, {input_X: X_val_flat, input_y: y_val_oh}))\n",
    "# Validation accuracy\n",
    "grader.set_answer(\"RMv95\", accuracy_score(y_val, s.run(classes, {input_X: X_val_flat})))"
   ]
  },
  {
   "cell_type": "code",
   "execution_count": 18,
   "metadata": {},
   "outputs": [
    {
     "name": "stdout",
     "output_type": "stream",
     "text": [
      "Submitted to Coursera platform. See results on assignment page!\n"
     ]
    }
   ],
   "source": [
    "# you can make submission with answers so far to check yourself at this stage\n",
    "grader.submit(COURSERA_EMAIL, COURSERA_TOKEN)"
   ]
  },
  {
   "cell_type": "markdown",
   "metadata": {},
   "source": [
    "# MLP with hidden layers"
   ]
  },
  {
   "cell_type": "markdown",
   "metadata": {},
   "source": [
    "Previously we've coded a dense layer with matrix multiplication by hand. \n",
    "But this is not convenient, you have to create a lot of variables and your code becomes a mess. \n",
    "In TensorFlow there's an easier way to make a dense layer:\n",
    "```python\n",
    "hidden1 = tf.layers.dense(inputs, 256, activation=tf.nn.sigmoid)\n",
    "```\n",
    "\n",
    "That will create all the necessary variables automatically.\n",
    "Here you can also choose an activation function (remember that we need it for a hidden layer!).\n",
    "\n",
    "Now define the MLP with 2 hidden layers and restart training with the cell above.\n",
    "\n",
    "You're aiming for ~0.97 validation accuracy here."
   ]
  },
  {
   "cell_type": "code",
   "execution_count": 19,
   "metadata": {},
   "outputs": [
    {
     "name": "stdout",
     "output_type": "stream",
     "text": [
      "(50000, 28, 28) (50000,)\n"
     ]
    }
   ],
   "source": [
    "# write the code here to get a new `step` operation and then run the cell with training loop above.\n",
    "# name your variables in the same way (e.g. logits, probas, classes, etc) for safety.\n",
    "### YOUR CODE HERE ###\n",
    "from preprocessed_mnist import load_dataset\n",
    "X_train, y_train, X_val, y_val, X_test, y_test = load_dataset()\n",
    "print(X_train.shape, y_train.shape)"
   ]
  },
  {
   "cell_type": "code",
   "execution_count": 20,
   "metadata": {
    "collapsed": true
   },
   "outputs": [],
   "source": [
    "s = reset_tf_session()\n",
    "input_X = tf.placeholder(tf.float32, shape=(None,784))\n",
    "input_y = tf.placeholder(tf.float32, shape=(None,10))\n",
    "hidden1 = tf.layers.dense(input_X, 256,activation=tf.nn.sigmoid)\n",
    "hidden2 = tf.layers.dense(hidden1, 256,activation=tf.nn.sigmoid)\n",
    "logits = tf.layers.dense(hidden2, 10)\n",
    "probas = tf.nn.softmax(logits)\n",
    "classes = tf.argmax(probas,1)\n",
    "#print(hidden1.shape,logits.shape, probas.shape, classes.shape)\n",
    "\n",
    "loss = tf.reduce_mean(tf.nn.softmax_cross_entropy_with_logits(labels=input_y, logits=logits))\n",
    "\n",
    "step = tf.train.AdamOptimizer().minimize(loss)\n",
    "\n",
    "s.run(tf.global_variables_initializer())\n",
    "\n",
    "BATCH_SIZE = 512\n",
    "EPOCHS = 40\n",
    "\n",
    "# for logging the progress right here in Jupyter (for those who don't have TensorBoard)\n",
    "simpleTrainingCurves = matplotlib_utils.SimpleTrainingCurves(\"cross-entropy\", \"accuracy\")\n",
    "\n",
    "for epoch in range(EPOCHS):  # we finish an epoch when we've looked at all training samples\n",
    "    \n",
    "    batch_losses = []\n",
    "    for batch_start in range(0, X_train_flat.shape[0], BATCH_SIZE):  # data is already shuffled\n",
    "        _, batch_loss = s.run([step, loss], {input_X: X_train_flat[batch_start:batch_start+BATCH_SIZE], \n",
    "                                             input_y: y_train_oh[batch_start:batch_start+BATCH_SIZE]})\n",
    "        # collect batch losses, this is almost free as we need a forward pass for backprop anyway\n",
    "        batch_losses.append(batch_loss)\n",
    "\n",
    "    train_loss = np.mean(batch_losses)\n",
    "    val_loss = s.run(loss, {input_X: X_val_flat, input_y: y_val_oh})  # this part is usually small\n",
    "    train_accuracy = accuracy_score(y_train, s.run(classes, {input_X: X_train_flat}))  # this is slow and usually skipped\n",
    "    valid_accuracy = accuracy_score(y_val, s.run(classes, {input_X: X_val_flat}))  "
   ]
  },
  {
   "cell_type": "markdown",
   "metadata": {},
   "source": [
    "# Submit the MLP with 2 hidden layers\n",
    "Run these cells after training the MLP with 2 hidden layers"
   ]
  },
  {
   "cell_type": "code",
   "execution_count": 21,
   "metadata": {
    "collapsed": true
   },
   "outputs": [],
   "source": [
    "## GRADED PART, DO NOT CHANGE!\n",
    "# Validation loss for MLP\n",
    "grader.set_answer(\"i8bgs\", s.run(loss, {input_X: X_val_flat, input_y: y_val_oh}))\n",
    "# Validation accuracy for MLP\n",
    "grader.set_answer(\"rE763\", accuracy_score(y_val, s.run(classes, {input_X: X_val_flat})))"
   ]
  },
  {
   "cell_type": "code",
   "execution_count": 22,
   "metadata": {},
   "outputs": [
    {
     "name": "stdout",
     "output_type": "stream",
     "text": [
      "Submitted to Coursera platform. See results on assignment page!\n"
     ]
    }
   ],
   "source": [
    "# you can make submission with answers so far to check yourself at this stage\n",
    "grader.submit(COURSERA_EMAIL, COURSERA_TOKEN)"
   ]
  },
  {
   "cell_type": "code",
   "execution_count": null,
   "metadata": {
    "collapsed": true
   },
   "outputs": [],
   "source": []
  }
 ],
 "metadata": {
  "kernelspec": {
   "display_name": "Python 3",
   "language": "python",
   "name": "python3"
  },
  "language_info": {
   "codemirror_mode": {
    "name": "ipython",
    "version": 3
   },
   "file_extension": ".py",
   "mimetype": "text/x-python",
   "name": "python",
   "nbconvert_exporter": "python",
   "pygments_lexer": "ipython3",
   "version": "3.6.0"
  }
 },
 "nbformat": 4,
 "nbformat_minor": 1
}
